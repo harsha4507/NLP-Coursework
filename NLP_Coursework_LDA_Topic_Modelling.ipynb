{
 "cells": [
  {
   "cell_type": "markdown",
   "metadata": {},
   "source": [
    "# Text Analysis on customer support tweets\n",
    "\n",
    "With the increase in the popularity of social media and the increased number of users, Social media monitoring has become a very important aspect to companies that aim at maintaining good customer relations.\n",
    "\n",
    "Social media monitoring helps companies not only to interact with customers easily but also they can find the issues or the primary concerns faced by the customers.\n",
    "\n",
    "The main aim of this project is to identify the patterns in the twitter conversations between various companies and their customers in order to identify the primary concerns of the consumers\n",
    "\n",
    "Please find the data set that has been taken from kaggle. https://www.kaggle.com/thoughtvector/customer-support-on-twitter\n",
    "\n",
    "This is an unsupervised learning model and Topic modelling techniques (primarily LDA) have been used for the model creation. The hence created model is verified by using the two parameters perplexity score and coherence score.\n",
    "\n",
    "<h4> Describing the Dataset</h4>\n",
    "\n",
    "The dataset contains seven columns, each described as below:\n",
    "<p>\n",
    "    1. <b>Tweet_id:</b> Unique identification number to identify each tweet<br>\n",
    "    2. <b>Author_id:</b> Unique identification number to identify the user (the one who is tweeting). Numbers have beenused for IDs of customers to maintain privacy<br>\n",
    "    3. <b>Inbound:</b> The value of Inbound is \"True\" if the tweet is tweeted by a user but not the company. Inbound value is \"False\", if the tweet is tweeted by the Company.<br>\n",
    "    4. <b>CreatedDate:</b> Timestamp of the tweet.<br>\n",
    "    5. <b>Text:</b> Text data of the tweet<br>\n",
    "    6. <b>Response_tweet_id:</b> Provides the list of tweet_ids responded to the particular tweet.<br>\n",
    "    7. <b>In_response_to_tweet_id:</b> Provides the tweet_id to which the particular tweet is responding to (in response to which tweet id)<br>\n",
    "</p>\n",
    "\n",
    "<h4> Major Constraints in processing </h4>\n",
    "\n",
    "The enormous amount of data present (more than 30 million records) in the data set has been consuming a lot of time to process the machine learning algorithms and also the preprocessing has been taking lot of time and hence only the top 25 companies were selected, but even the top 25 companies were consuimg lot of time for training and preprocessing.Hence we only picked the companies ranking from 21 to 25 in terms of number of tweets. This particular set of companies were selected because they have optimum number of records for preprocessing and training. However the data visualization was done on top 25 comapnies, pre processing and training are done the companies ranked from 21 to 25<br>\n",
    "<p><b>Note :</b> All the references are given in the end of the notebook </p>\n"
   ]
  },
  {
   "cell_type": "code",
   "execution_count": 1,
   "metadata": {},
   "outputs": [
    {
     "name": "stderr",
     "output_type": "stream",
     "text": [
      "C:\\Users\\mahil\\anaconda3\\lib\\site-packages\\gensim\\similarities\\__init__.py:15: UserWarning: The gensim.similarities.levenshtein submodule is disabled, because the optional Levenshtein package <https://pypi.org/project/python-Levenshtein/> is unavailable. Install Levenhstein (e.g. `pip install python-Levenshtein`) to suppress this warning.\n",
      "  warnings.warn(msg)\n"
     ]
    }
   ],
   "source": [
    "#Importing the required libraries\n",
    "import pandas as pd   #pandas library\n",
    "import numpy as np    #numpy library\n",
    "import nltk           #NLTK library\n",
    "from nltk.tokenize import word_tokenize   #nltk\n",
    "from nltk.corpus import stopwords\n",
    "from sklearn.feature_extraction.text import ENGLISH_STOP_WORDS as sklearn_stop_words\n",
    "from collections import Counter\n",
    "from nltk.util import ngrams\n",
    "from collections import Counter\n",
    "import os\n",
    "import re\n",
    "import spacy\n",
    "from spacy.lang.en.stop_words import STOP_WORDS\n",
    "from spacy.lang.en import English\n",
    "import random\n",
    "#impporting required gensim packages\n",
    "import gensim\n",
    "import gensim.corpora as corpora\n",
    "import gensim.models as models\n",
    "from gensim.test.utils import common_corpus, common_dictionary\n",
    "from gensim.models import CoherenceModel\n",
    "from pprint import pprint\n",
    "\n",
    "\n",
    "#packages required for visualization\n",
    "import pyLDAvis\n",
    "import pyLDAvis.gensim\n",
    "import pickle \n",
    "\n",
    "import matplotlib.pyplot as plt\n",
    "%matplotlib inline"
   ]
  },
  {
   "cell_type": "markdown",
   "metadata": {},
   "source": [
    "The data set was available on kaggle as single large csv file. This file has been split into six files inorder to enhance the processing speed for adding the 'sentTo' coloumn in the data set for recognizing the recipient of the tweet. \n",
    "\n",
    "base logic for adding sentTo :\n",
    "\n",
    "Tracing the in_response_to_tweet_id to identify whom the tweet is intended to\n",
    "\n",
    "data[\"in_response_to_tweet_id\"]=pd.to_numeric(data['in_response_to_tweet_id'],errors='coerce')\n",
    "df_=data[[\"tweet_id\",\"author_id\"]]\n",
    "df_=df_.rename(columns={\"tweet_id\":\"in_response_to_tweet_id\",\"author_id\":\"Sent_to\"})\n",
    "data=pd.merge(data,df_,on=[\"in_response_to_tweet_id\"],how=\"left\")\n",
    "\n",
    "Returns the data into 6 csv with one more included column \"sentTo\""
   ]
  },
  {
   "cell_type": "code",
   "execution_count": 2,
   "metadata": {},
   "outputs": [
    {
     "name": "stderr",
     "output_type": "stream",
     "text": [
      "C:\\Users\\mahil\\anaconda3\\lib\\site-packages\\ipykernel\\ipkernel.py:287: DeprecationWarning: `should_run_async` will not call `transform_cell` automatically in the future. Please pass the result to `transformed_cell` argument and any exception that happen during thetransform in `preprocessing_exc_tuple` in IPython 7.17 and above.\n",
      "  and should_run_async(code)\n",
      "C:\\Users\\mahil\\anaconda3\\lib\\site-packages\\IPython\\core\\interactiveshell.py:3146: DtypeWarning: Columns (0,1,3) have mixed types.Specify dtype option on import or set low_memory=False.\n",
      "  has_raised = await self.run_ast_nodes(code_ast.body, cell_name,\n",
      "C:\\Users\\mahil\\anaconda3\\lib\\site-packages\\IPython\\core\\interactiveshell.py:3146: DtypeWarning: Columns (1) have mixed types.Specify dtype option on import or set low_memory=False.\n",
      "  has_raised = await self.run_ast_nodes(code_ast.body, cell_name,\n",
      "C:\\Users\\mahil\\anaconda3\\lib\\site-packages\\IPython\\core\\interactiveshell.py:3146: DtypeWarning: Columns (1,2,3,4,5,6,8) have mixed types.Specify dtype option on import or set low_memory=False.\n",
      "  has_raised = await self.run_ast_nodes(code_ast.body, cell_name,\n"
     ]
    }
   ],
   "source": [
    "# Importing all the data that has been split into 6 files\n",
    "a = pd.read_csv('a.csv')\n",
    "b = pd.read_csv('b.csv')\n",
    "c = pd.read_csv('c.csv')\n",
    "d = pd.read_csv('d.csv')\n",
    "e = pd.read_csv('e.csv')\n",
    "f = pd.read_csv('f.csv')\n",
    "#removing the first coloumn since that coloumnis just an index\n",
    "a = a.iloc[:,1:]\n",
    "b = b.iloc[:,1:]\n",
    "c = c.iloc[:,1:]\n",
    "d = d.iloc[:,1:]\n",
    "e = e.iloc[:,1:]\n",
    "f = f.iloc[:,1:]\n",
    "#concatinating data from all the data frames into a single data frame\n",
    "data1 = pd.concat([a, b, c, d, e, f], ignore_index=True)"
   ]
  },
  {
   "cell_type": "markdown",
   "metadata": {},
   "source": [
    "Here we are trying to pick and analyze only the data ony for the top 25 companies with the highest number of tweets because the full data set has a total of 30 million plus records which would take a lot of processing time."
   ]
  },
  {
   "cell_type": "code",
   "execution_count": 3,
   "metadata": {},
   "outputs": [
    {
     "name": "stderr",
     "output_type": "stream",
     "text": [
      "C:\\Users\\mahil\\anaconda3\\lib\\site-packages\\ipykernel\\ipkernel.py:287: DeprecationWarning: `should_run_async` will not call `transform_cell` automatically in the future. Please pass the result to `transformed_cell` argument and any exception that happen during thetransform in `preprocessing_exc_tuple` in IPython 7.17 and above.\n",
      "  and should_run_async(code)\n"
     ]
    },
    {
     "data": {
      "text/html": [
       "<div>\n",
       "<style scoped>\n",
       "    .dataframe tbody tr th:only-of-type {\n",
       "        vertical-align: middle;\n",
       "    }\n",
       "\n",
       "    .dataframe tbody tr th {\n",
       "        vertical-align: top;\n",
       "    }\n",
       "\n",
       "    .dataframe thead th {\n",
       "        text-align: right;\n",
       "    }\n",
       "</style>\n",
       "<table border=\"1\" class=\"dataframe\">\n",
       "  <thead>\n",
       "    <tr style=\"text-align: right;\">\n",
       "      <th></th>\n",
       "      <th>count</th>\n",
       "      <th>name</th>\n",
       "    </tr>\n",
       "  </thead>\n",
       "  <tbody>\n",
       "    <tr>\n",
       "      <th>AmazonHelp</th>\n",
       "      <td>126059</td>\n",
       "      <td>AmazonHelp</td>\n",
       "    </tr>\n",
       "    <tr>\n",
       "      <th>AppleSupport</th>\n",
       "      <td>83769</td>\n",
       "      <td>AppleSupport</td>\n",
       "    </tr>\n",
       "    <tr>\n",
       "      <th>AmericanAir</th>\n",
       "      <td>42652</td>\n",
       "      <td>AmericanAir</td>\n",
       "    </tr>\n",
       "    <tr>\n",
       "      <th>Uber_Support</th>\n",
       "      <td>40990</td>\n",
       "      <td>Uber_Support</td>\n",
       "    </tr>\n",
       "    <tr>\n",
       "      <th>Delta</th>\n",
       "      <td>35932</td>\n",
       "      <td>Delta</td>\n",
       "    </tr>\n",
       "    <tr>\n",
       "      <th>...</th>\n",
       "      <td>...</td>\n",
       "      <td>...</td>\n",
       "    </tr>\n",
       "    <tr>\n",
       "      <th>116072</th>\n",
       "      <td>1902</td>\n",
       "      <td>116072</td>\n",
       "    </tr>\n",
       "    <tr>\n",
       "      <th>sizehelpteam</th>\n",
       "      <td>1889</td>\n",
       "      <td>sizehelpteam</td>\n",
       "    </tr>\n",
       "    <tr>\n",
       "      <th>116331</th>\n",
       "      <td>1854</td>\n",
       "      <td>116331</td>\n",
       "    </tr>\n",
       "    <tr>\n",
       "      <th>115937</th>\n",
       "      <td>1821</td>\n",
       "      <td>115937</td>\n",
       "    </tr>\n",
       "    <tr>\n",
       "      <th>CenturyLinkHelp</th>\n",
       "      <td>1776</td>\n",
       "      <td>CenturyLinkHelp</td>\n",
       "    </tr>\n",
       "  </tbody>\n",
       "</table>\n",
       "<p>100 rows × 2 columns</p>\n",
       "</div>"
      ],
      "text/plain": [
       "                  count             name\n",
       "AmazonHelp       126059       AmazonHelp\n",
       "AppleSupport      83769     AppleSupport\n",
       "AmericanAir       42652      AmericanAir\n",
       "Uber_Support      40990     Uber_Support\n",
       "Delta             35932            Delta\n",
       "...                 ...              ...\n",
       "116072             1902           116072\n",
       "sizehelpteam       1889     sizehelpteam\n",
       "116331             1854           116331\n",
       "115937             1821           115937\n",
       "CenturyLinkHelp    1776  CenturyLinkHelp\n",
       "\n",
       "[100 rows x 2 columns]"
      ]
     },
     "execution_count": 3,
     "metadata": {},
     "output_type": "execute_result"
    }
   ],
   "source": [
    "#Calculating the total number of tweets for each company \n",
    "\n",
    "#inbound are the tweets which the company has received from the customers\n",
    "inboundDf = pd.DataFrame(data1[\"author_id\"].value_counts())\n",
    "#outbound are the tweets which the company has sent as a response to the customer's tweets\n",
    "outboundDf = pd.DataFrame(data1[\"sentTo\"].value_counts())\n",
    "\n",
    "#outbound tweets have '@' before the username in the 'sentTo' coloumn and hence removing them  \n",
    "temp1=outboundDf.index\n",
    "temp2=[]\n",
    "for i in temp1:\n",
    "    temp3=re.sub('@','',i)\n",
    "    temp2.append(temp3)\n",
    "\n",
    "###picking only the top hundred records from the inbound Df since we need to pick the top25 companies for our analysis,\n",
    "###when we add the tweets of both inbound and outbound data, it is very likely that the top companies stay with in the\n",
    "###first 100\n",
    "inboundDf=inboundDf.iloc[:100,]\n",
    "inboundDf.columns = ['count']\n",
    "inboundDf['name'] = inboundDf.index\n",
    "\n",
    "###picking only the top hundred records from the outbound Df since we need to pick the top25 companies for our analysis,\n",
    "###when we add the tweets of both inbound and outbound data, it is very likely that the top companies stay with in the\n",
    "###first 100\n",
    "outboundDf.index=temp2\n",
    "outboundDf=outboundDf.iloc[:100,]\n",
    "outboundDf.columns = ['count']\n",
    "outboundDf['name'] = outboundDf.index\n",
    "outboundDf"
   ]
  },
  {
   "cell_type": "markdown",
   "metadata": {},
   "source": [
    "Though we have picked top 25 companies for analyzing and visualizing the data, we are going with only 5 companies ranking from 21 to 25 for the preprocessing and model creation. \n",
    "This is because, top 25 companies have a total of almost 1.6 million tweets and we tried to train the model , it was taking lot of hours to process, hence we chose to go with the companies ranking from 21 to 25 and the total number of records that we will be processing is aroung 160,000"
   ]
  },
  {
   "cell_type": "code",
   "execution_count": 4,
   "metadata": {
    "scrolled": true
   },
   "outputs": [
    {
     "name": "stderr",
     "output_type": "stream",
     "text": [
      "C:\\Users\\mahil\\anaconda3\\lib\\site-packages\\ipykernel\\ipkernel.py:287: DeprecationWarning: `should_run_async` will not call `transform_cell` automatically in the future. Please pass the result to `transformed_cell` argument and any exception that happen during thetransform in `preprocessing_exc_tuple` in IPython 7.17 and above.\n",
      "  and should_run_async(code)\n"
     ]
    },
    {
     "data": {
      "text/html": [
       "<div>\n",
       "<style scoped>\n",
       "    .dataframe tbody tr th:only-of-type {\n",
       "        vertical-align: middle;\n",
       "    }\n",
       "\n",
       "    .dataframe tbody tr th {\n",
       "        vertical-align: top;\n",
       "    }\n",
       "\n",
       "    .dataframe thead th {\n",
       "        text-align: right;\n",
       "    }\n",
       "</style>\n",
       "<table border=\"1\" class=\"dataframe\">\n",
       "  <thead>\n",
       "    <tr style=\"text-align: right;\">\n",
       "      <th></th>\n",
       "      <th>name</th>\n",
       "      <th>count</th>\n",
       "    </tr>\n",
       "  </thead>\n",
       "  <tbody>\n",
       "    <tr>\n",
       "      <th>116</th>\n",
       "      <td>VerizonSupport</td>\n",
       "      <td>34581</td>\n",
       "    </tr>\n",
       "    <tr>\n",
       "      <th>133</th>\n",
       "      <td>sprintcare</td>\n",
       "      <td>34081</td>\n",
       "    </tr>\n",
       "    <tr>\n",
       "      <th>97</th>\n",
       "      <td>O2</td>\n",
       "      <td>32856</td>\n",
       "    </tr>\n",
       "    <tr>\n",
       "      <th>104</th>\n",
       "      <td>Safaricom_Care</td>\n",
       "      <td>31567</td>\n",
       "    </tr>\n",
       "    <tr>\n",
       "      <th>128</th>\n",
       "      <td>idea_cares</td>\n",
       "      <td>29936</td>\n",
       "    </tr>\n",
       "  </tbody>\n",
       "</table>\n",
       "</div>"
      ],
      "text/plain": [
       "               name  count\n",
       "116  VerizonSupport  34581\n",
       "133      sprintcare  34081\n",
       "97               O2  32856\n",
       "104  Safaricom_Care  31567\n",
       "128      idea_cares  29936"
      ]
     },
     "execution_count": 4,
     "metadata": {},
     "output_type": "execute_result"
    }
   ],
   "source": [
    "##After collecting the sum of first 100 records from inbound and outbound dataframes, we need to sum the number of tweets\n",
    "##in order to get the total no.of tweets that are related to a particular company\n",
    "df = pd.concat([inboundDf, outboundDf])\\\n",
    "       .groupby('name')['count']\\\n",
    "       .sum().reset_index()\n",
    "df.sort_values(by=['count'], inplace=True, ascending= False)\n",
    "\n",
    "##Collecting only the tweets related to a company and removing all the numeric usernames as numeric \n",
    "##usernames belong to the customers or individual users\n",
    "temp1 = pd.Series(df['name'])\n",
    "temp2 = temp1.str.isnumeric()\n",
    "df = df.assign(isnumeric = temp2)\n",
    "index = df.index[df['isnumeric'] == False].tolist()\n",
    "companies = df.loc[index,:]\n",
    "del companies['isnumeric']\n",
    "top25_df = companies.head(25)\n",
    "companyDf = top25_df.tail(5)\n",
    "companyDf #this data frame has the list of the last 5 from the top 25 companies along with the total no.of tweets."
   ]
  },
  {
   "cell_type": "markdown",
   "metadata": {},
   "source": [
    "<b>Data Visualization of the numnber of tweets per each company in top 25 list of companies </b>"
   ]
  },
  {
   "cell_type": "code",
   "execution_count": 5,
   "metadata": {
    "scrolled": true
   },
   "outputs": [
    {
     "name": "stderr",
     "output_type": "stream",
     "text": [
      "C:\\Users\\mahil\\anaconda3\\lib\\site-packages\\ipykernel\\ipkernel.py:287: DeprecationWarning: `should_run_async` will not call `transform_cell` automatically in the future. Please pass the result to `transformed_cell` argument and any exception that happen during thetransform in `preprocessing_exc_tuple` in IPython 7.17 and above.\n",
      "  and should_run_async(code)\n",
      "<ipython-input-5-4469c893b6e5>:6: SettingWithCopyWarning: \n",
      "A value is trying to be set on a copy of a slice from a DataFrame\n",
      "\n",
      "See the caveats in the documentation: https://pandas.pydata.org/pandas-docs/stable/user_guide/indexing.html#returning-a-view-versus-a-copy\n",
      "  top25_df.sort_values('count',inplace=True)\n"
     ]
    },
    {
     "data": {
      "text/plain": [
       "<AxesSubplot:title={'center':'Total No.of Tweets'}, xlabel='Count', ylabel='Comapany names'>"
      ]
     },
     "execution_count": 5,
     "metadata": {},
     "output_type": "execute_result"
    },
    {
     "data": {
      "image/png": "[encoded data removed]",
      "text/plain": [
       "<Figure size 576x720 with 1 Axes>"
      ]
     },
     "metadata": {
      "needs_background": "light"
     },
     "output_type": "display_data"
    }
   ],
   "source": [
    "#plotting the total no.of tweets for each company\n",
    "b=[]\n",
    "for i in range(len(top25_df)):\n",
    "    a=\"#{:06x}\".format(random.randint(0, 0x00FFFF))\n",
    "    b.append(a)\n",
    "top25_df.sort_values('count',inplace=True)\n",
    "ax = top25_df.plot(kind='barh', figsize=(8, 10), color='xkcd:sky blue', zorder=2, width=0.85)\n",
    "ax.set_title('Total No.of Tweets')\n",
    "ax.set_xlabel('Count')\n",
    "ax.set_ylabel('Comapany names')\n",
    "ax.set_yticklabels(top25_df['name'])\n",
    "ax"
   ]
  },
  {
   "cell_type": "markdown",
   "metadata": {},
   "source": [
    "<b>Data Visualization of the number conversations that were started with a company support team</b>"
   ]
  },
  {
   "cell_type": "code",
   "execution_count": 6,
   "metadata": {
    "scrolled": false
   },
   "outputs": [
    {
     "name": "stderr",
     "output_type": "stream",
     "text": [
      "C:\\Users\\mahil\\anaconda3\\lib\\site-packages\\ipykernel\\ipkernel.py:287: DeprecationWarning: `should_run_async` will not call `transform_cell` automatically in the future. Please pass the result to `transformed_cell` argument and any exception that happen during thetransform in `preprocessing_exc_tuple` in IPython 7.17 and above.\n",
      "  and should_run_async(code)\n"
     ]
    },
    {
     "data": {
      "text/html": [
       "<div>\n",
       "<style scoped>\n",
       "    .dataframe tbody tr th:only-of-type {\n",
       "        vertical-align: middle;\n",
       "    }\n",
       "\n",
       "    .dataframe tbody tr th {\n",
       "        vertical-align: top;\n",
       "    }\n",
       "\n",
       "    .dataframe thead th {\n",
       "        text-align: right;\n",
       "    }\n",
       "</style>\n",
       "<table border=\"1\" class=\"dataframe\">\n",
       "  <thead>\n",
       "    <tr style=\"text-align: right;\">\n",
       "      <th></th>\n",
       "      <th>sentTo</th>\n",
       "    </tr>\n",
       "  </thead>\n",
       "  <tbody>\n",
       "    <tr>\n",
       "      <th>@AppleSupport</th>\n",
       "      <td>42578</td>\n",
       "    </tr>\n",
       "    <tr>\n",
       "      <th>@115858</th>\n",
       "      <td>28296</td>\n",
       "    </tr>\n",
       "    <tr>\n",
       "      <th>@AmericanAir</th>\n",
       "      <td>21511</td>\n",
       "    </tr>\n",
       "    <tr>\n",
       "      <th>@Delta</th>\n",
       "      <td>19109</td>\n",
       "    </tr>\n",
       "    <tr>\n",
       "      <th>@AmazonHelp</th>\n",
       "      <td>17222</td>\n",
       "    </tr>\n",
       "    <tr>\n",
       "      <th>@SouthwestAir</th>\n",
       "      <td>16724</td>\n",
       "    </tr>\n",
       "    <tr>\n",
       "      <th>@Uber_Support</th>\n",
       "      <td>16299</td>\n",
       "    </tr>\n",
       "    <tr>\n",
       "      <th>@115873</th>\n",
       "      <td>14877</td>\n",
       "    </tr>\n",
       "    <tr>\n",
       "      <th>@British_Airways</th>\n",
       "      <td>14374</td>\n",
       "    </tr>\n",
       "    <tr>\n",
       "      <th>@115821</th>\n",
       "      <td>14301</td>\n",
       "    </tr>\n",
       "    <tr>\n",
       "      <th>@Tesco</th>\n",
       "      <td>14283</td>\n",
       "    </tr>\n",
       "    <tr>\n",
       "      <th>@VirginTrains</th>\n",
       "      <td>12774</td>\n",
       "    </tr>\n",
       "    <tr>\n",
       "      <th>@115850</th>\n",
       "      <td>12149</td>\n",
       "    </tr>\n",
       "    <tr>\n",
       "      <th>@ChipotleTweets</th>\n",
       "      <td>11879</td>\n",
       "    </tr>\n",
       "    <tr>\n",
       "      <th>@SpotifyCares</th>\n",
       "      <td>11555</td>\n",
       "    </tr>\n",
       "    <tr>\n",
       "      <th>@115888</th>\n",
       "      <td>10811</td>\n",
       "    </tr>\n",
       "    <tr>\n",
       "      <th>@AskPlayStation</th>\n",
       "      <td>10278</td>\n",
       "    </tr>\n",
       "    <tr>\n",
       "      <th>@115911</th>\n",
       "      <td>10224</td>\n",
       "    </tr>\n",
       "    <tr>\n",
       "      <th>@XboxSupport</th>\n",
       "      <td>9903</td>\n",
       "    </tr>\n",
       "    <tr>\n",
       "      <th>@Ask_Spectrum</th>\n",
       "      <td>9595</td>\n",
       "    </tr>\n",
       "    <tr>\n",
       "      <th>@GWRHelp</th>\n",
       "      <td>9416</td>\n",
       "    </tr>\n",
       "    <tr>\n",
       "      <th>@sainsburys</th>\n",
       "      <td>9147</td>\n",
       "    </tr>\n",
       "    <tr>\n",
       "      <th>@115714</th>\n",
       "      <td>8168</td>\n",
       "    </tr>\n",
       "    <tr>\n",
       "      <th>@116062</th>\n",
       "      <td>7848</td>\n",
       "    </tr>\n",
       "    <tr>\n",
       "      <th>@O2</th>\n",
       "      <td>7531</td>\n",
       "    </tr>\n",
       "  </tbody>\n",
       "</table>\n",
       "</div>"
      ],
      "text/plain": [
       "                  sentTo\n",
       "@AppleSupport      42578\n",
       "@115858            28296\n",
       "@AmericanAir       21511\n",
       "@Delta             19109\n",
       "@AmazonHelp        17222\n",
       "@SouthwestAir      16724\n",
       "@Uber_Support      16299\n",
       "@115873            14877\n",
       "@British_Airways   14374\n",
       "@115821            14301\n",
       "@Tesco             14283\n",
       "@VirginTrains      12774\n",
       "@115850            12149\n",
       "@ChipotleTweets    11879\n",
       "@SpotifyCares      11555\n",
       "@115888            10811\n",
       "@AskPlayStation    10278\n",
       "@115911            10224\n",
       "@XboxSupport        9903\n",
       "@Ask_Spectrum       9595\n",
       "@GWRHelp            9416\n",
       "@sainsburys         9147\n",
       "@115714             8168\n",
       "@116062             7848\n",
       "@O2                 7531"
      ]
     },
     "execution_count": 6,
     "metadata": {},
     "output_type": "execute_result"
    }
   ],
   "source": [
    "# Pick only inbound tweets that aren't in reply to anything and hence fetching the beginning of a conversation\n",
    "first_inbound = data1[pd.isnull(data1.in_response_to_tweet_id) & data1.inbound]\n",
    "# We fetch the companies that had the highest number of conversations and not the total no.of tweets\n",
    "conv = pd.DataFrame(first_inbound[\"sentTo\"].value_counts())\n",
    "conversations = conv.head(25)\n",
    "conversations"
   ]
  },
  {
   "cell_type": "code",
   "execution_count": 7,
   "metadata": {},
   "outputs": [
    {
     "name": "stderr",
     "output_type": "stream",
     "text": [
      "C:\\Users\\mahil\\anaconda3\\lib\\site-packages\\ipykernel\\ipkernel.py:287: DeprecationWarning: `should_run_async` will not call `transform_cell` automatically in the future. Please pass the result to `transformed_cell` argument and any exception that happen during thetransform in `preprocessing_exc_tuple` in IPython 7.17 and above.\n",
      "  and should_run_async(code)\n",
      "<ipython-input-7-5a5860f1b8d8>:6: SettingWithCopyWarning: \n",
      "A value is trying to be set on a copy of a slice from a DataFrame\n",
      "\n",
      "See the caveats in the documentation: https://pandas.pydata.org/pandas-docs/stable/user_guide/indexing.html#returning-a-view-versus-a-copy\n",
      "  conversations.sort_values('sentTo',inplace=True)\n"
     ]
    },
    {
     "data": {
      "text/plain": [
       "<AxesSubplot:title={'center':'Total No.of Conversations'}, xlabel='Count', ylabel='Comapany names'>"
      ]
     },
     "execution_count": 7,
     "metadata": {},
     "output_type": "execute_result"
    },
    {
     "data": {
      "image/png": "[encoded data removed]",
      "text/plain": [
       "<Figure size 576x720 with 1 Axes>"
      ]
     },
     "metadata": {
      "needs_background": "light"
     },
     "output_type": "display_data"
    }
   ],
   "source": [
    "#plotting the no.of conversations\n",
    "q=[]\n",
    "for i in range(len(conversations)):\n",
    "    p=\"#{:06x}\".format(random.randint(0, 0x00FFFF))\n",
    "    q.append(p)\n",
    "conversations.sort_values('sentTo',inplace=True)\n",
    "bx = conversations.plot(kind='barh', figsize=(8, 10), color='tab:olive', zorder=2, width=0.85)\n",
    "bx.set_title('Total No.of Conversations')\n",
    "bx.set_xlabel('Count')\n",
    "bx.set_ylabel('Comapany names')\n",
    "bx"
   ]
  },
  {
   "cell_type": "markdown",
   "metadata": {},
   "source": [
    "<b> Interestingly , there are 9 users who are there in the top 25 list of accounts that got hightest number of conversation starter messages, that means it is worth taking a look at the users accounts for any valuable insights</b>"
   ]
  },
  {
   "cell_type": "code",
   "execution_count": 8,
   "metadata": {},
   "outputs": [
    {
     "name": "stderr",
     "output_type": "stream",
     "text": [
      "C:\\Users\\mahil\\anaconda3\\lib\\site-packages\\ipykernel\\ipkernel.py:287: DeprecationWarning: `should_run_async` will not call `transform_cell` automatically in the future. Please pass the result to `transformed_cell` argument and any exception that happen during thetransform in `preprocessing_exc_tuple` in IPython 7.17 and above.\n",
      "  and should_run_async(code)\n"
     ]
    }
   ],
   "source": [
    "## from the entire data frame 'data1', fetching the data only related to the top 25 companies \n",
    "indexI = list(companyDf['name'])\n",
    "tail5_temp = []\n",
    "for index in indexI:\n",
    "    x = (index, str(\"@\" +index))\n",
    "    tail5_temp.append(x)\n",
    "\n",
    "df1 = pd.DataFrame()\n",
    "for x,y in tail5_temp:\n",
    "    data_comp = pd.concat([data1.loc[data1['author_id'] == x], data1.loc[data1['sentTo'] == y] ])\n",
    "    df1 = df1.append(data_comp)\n",
    "data = df1"
   ]
  },
  {
   "cell_type": "markdown",
   "metadata": {},
   "source": [
    "### Data Preprocessing\n",
    "\n",
    "Preprocessing techniques that have been used :\n",
    "<p>\n",
    "    <b>Removal of punctuations:</b> this includes removing all the punctuations, numbers and all the non english charcacters\n"
   ]
  },
  {
   "cell_type": "code",
   "execution_count": 9,
   "metadata": {},
   "outputs": [
    {
     "name": "stderr",
     "output_type": "stream",
     "text": [
      "C:\\Users\\mahil\\anaconda3\\lib\\site-packages\\ipykernel\\ipkernel.py:287: DeprecationWarning: `should_run_async` will not call `transform_cell` automatically in the future. Please pass the result to `transformed_cell` argument and any exception that happen during thetransform in `preprocessing_exc_tuple` in IPython 7.17 and above.\n",
      "  and should_run_async(code)\n",
      "<>:7: DeprecationWarning: invalid escape sequence \\w\n",
      "<>:7: DeprecationWarning: invalid escape sequence \\w\n",
      "<ipython-input-9-bd8b924fae8d>:7: DeprecationWarning: invalid escape sequence \\w\n",
      "  tweet=re.sub(\"(@[A-Za-z0-9]+)|([^0-9A-Za-z \\t])|(\\w+:\\/\\/\\S+)\",\"\",tweet)\n"
     ]
    }
   ],
   "source": [
    "## Removal of Punctuations\n",
    "def preprocessing(tweet):\n",
    "        #Lower casing\n",
    "        tweet=tweet.lower()\n",
    "        #removal of punctuations\n",
    "        tweet=re.sub(r'<.*? >', '', tweet)\n",
    "        tweet=re.sub(\"(@[A-Za-z0-9]+)|([^0-9A-Za-z \\t])|(\\w+:\\/\\/\\S+)\",\"\",tweet)\n",
    "        tweet=re.sub(r'[0-9]+', '', tweet)\n",
    "        return tweet"
   ]
  },
  {
   "cell_type": "markdown",
   "metadata": {},
   "source": [
    "<b>Removal of stopwords:</b> A miscelleneous list of stop words have been aquired from the web and have been added along with the stopwords from various libraries like nltk,spacy.\n",
    "    "
   ]
  },
  {
   "cell_type": "code",
   "execution_count": 10,
   "metadata": {},
   "outputs": [
    {
     "name": "stderr",
     "output_type": "stream",
     "text": [
      "C:\\Users\\mahil\\anaconda3\\lib\\site-packages\\ipykernel\\ipkernel.py:287: DeprecationWarning: `should_run_async` will not call `transform_cell` automatically in the future. Please pass the result to `transformed_cell` argument and any exception that happen during thetransform in `preprocessing_exc_tuple` in IPython 7.17 and above.\n",
      "  and should_run_async(code)\n"
     ]
    }
   ],
   "source": [
    "#Removal of Stop Words\n",
    "\n",
    "#A list of Miscelleneous stop words have been picked from ref: \"\"\n",
    "misc_stop = pd.read_csv('Misc_Stop_Words.csv')\n",
    "\n",
    "#spacy stopwords\n",
    "nlp = English()\n",
    "en = spacy.load('en_core_web_sm')\n",
    "sw_spacy = en.Defaults.stop_words\n",
    "sw_spacy = list(sw_spacy)\n",
    "stop_words = nltk.corpus.stopwords.words('english')\n",
    "\n",
    "# As we are looking at informal text we need to account for abbreviations, acronyms and uncommon words, and include these in our stopword list.\n",
    "#To do this, we take the difference between the chat words corpus and the words corpus from the nltk library. \n",
    "def unusual_words(text):\n",
    "    text_vocab = set(w.lower() for w in text if w.isalpha()) #checks if all characters in words in text is alphabetic.\n",
    "    english_vocab = set(w.lower() for w in nltk.corpus.words.words())\n",
    "    unusual = text_vocab.difference(english_vocab)\n",
    "    return sorted(unusual)\n",
    "unusual_words(nltk.corpus.nps_chat.words())\n",
    "\n",
    "# Combining the stop words from multiple libraries \n",
    "stopwords = stop_words + unusual_words(nltk.corpus.nps_chat.words()) + list(sklearn_stop_words) + list(misc_stop)\n",
    "stop_words = set(stopwords)\n",
    "# function to remove stop words\n",
    "def remove_stopwords(text):\n",
    "    return \" \".join([word for word in str(text).split() if word not in stopwords])"
   ]
  },
  {
   "cell_type": "markdown",
   "metadata": {},
   "source": [
    "<b>POS Tagging and Lemmatization</b>: POS tagging has been done before the lemmatization in order to ensure that the words are transformed to their correct\n",
    "form"
   ]
  },
  {
   "cell_type": "code",
   "execution_count": 11,
   "metadata": {},
   "outputs": [
    {
     "name": "stderr",
     "output_type": "stream",
     "text": [
      "C:\\Users\\mahil\\anaconda3\\lib\\site-packages\\ipykernel\\ipkernel.py:287: DeprecationWarning: `should_run_async` will not call `transform_cell` automatically in the future. Please pass the result to `transformed_cell` argument and any exception that happen during thetransform in `preprocessing_exc_tuple` in IPython 7.17 and above.\n",
      "  and should_run_async(code)\n"
     ]
    }
   ],
   "source": [
    "# POS Tagging and Lemmatization\n",
    "from nltk.corpus import wordnet\n",
    "from nltk.stem import WordNetLemmatizer\n",
    "\n",
    "lemmatizer = WordNetLemmatizer()\n",
    "wordnet_map = {\"N\":wordnet.NOUN, \"V\":wordnet.VERB, \"J\":wordnet.ADJ, \"R\":wordnet.ADV}\n",
    "def lemmatize_words(text):\n",
    "    pos_tagged_text = nltk.pos_tag(text.split())\n",
    "    return \" \".join([lemmatizer.lemmatize(word, wordnet_map.get(pos[0], wordnet.NOUN)) for word, pos in pos_tagged_text])"
   ]
  },
  {
   "cell_type": "markdown",
   "metadata": {},
   "source": [
    "<b>Removal of short words</b>: Short words of character length 1 and 2 have been removed. Since this is social media text processing lot of unwanted short words would be present in the data which adds a lot of noise to the data"
   ]
  },
  {
   "cell_type": "code",
   "execution_count": 12,
   "metadata": {},
   "outputs": [
    {
     "name": "stderr",
     "output_type": "stream",
     "text": [
      "C:\\Users\\mahil\\anaconda3\\lib\\site-packages\\ipykernel\\ipkernel.py:287: DeprecationWarning: `should_run_async` will not call `transform_cell` automatically in the future. Please pass the result to `transformed_cell` argument and any exception that happen during thetransform in `preprocessing_exc_tuple` in IPython 7.17 and above.\n",
      "  and should_run_async(code)\n"
     ]
    }
   ],
   "source": [
    "#Removal of short words which are of length 1 and 2 character\n",
    "shortword = re.compile(r'\\W*\\b\\w{1,2}\\b')\n",
    "#function to remove short words\n",
    "def re_remove(text): return shortword.sub('', text)"
   ]
  },
  {
   "cell_type": "markdown",
   "metadata": {},
   "source": [
    "<b>Removal of emojis</b>: Emojis have been removed to reduce the noise in the data"
   ]
  },
  {
   "cell_type": "code",
   "execution_count": 13,
   "metadata": {},
   "outputs": [
    {
     "name": "stderr",
     "output_type": "stream",
     "text": [
      "C:\\Users\\mahil\\anaconda3\\lib\\site-packages\\ipykernel\\ipkernel.py:287: DeprecationWarning: `should_run_async` will not call `transform_cell` automatically in the future. Please pass the result to `transformed_cell` argument and any exception that happen during thetransform in `preprocessing_exc_tuple` in IPython 7.17 and above.\n",
      "  and should_run_async(code)\n"
     ]
    }
   ],
   "source": [
    "#Function to remove the emojis\n",
    "def remove_emoji(string):\n",
    "    emoji_pattern = re.compile(\"[\"\n",
    "                           u\"\\U0001F600-\\U0001F64F\"  # emoticons\n",
    "                           u\"\\U0001F300-\\U0001F5FF\"  # symbols & pictographs\n",
    "                           u\"\\U0001F680-\\U0001F6FF\"  # transport & map symbols\n",
    "                           u\"\\U0001F1E0-\\U0001F1FF\"  # flags (iOS)\n",
    "                           u\"\\U00002702-\\U000027B0\"\n",
    "                           u\"\\U000024C2-\\U0001F251\"\n",
    "                           \"]+\", flags=re.UNICODE)\n",
    "    return emoji_pattern.sub(r'', string)"
   ]
  },
  {
   "cell_type": "markdown",
   "metadata": {},
   "source": [
    "<b>Removal of URLs</b>: All the URLs have been removed since in the context of this project which is finding the patterns in the text to identify the consumer issues, URLs doesnot play any role"
   ]
  },
  {
   "cell_type": "code",
   "execution_count": 14,
   "metadata": {},
   "outputs": [
    {
     "name": "stderr",
     "output_type": "stream",
     "text": [
      "C:\\Users\\mahil\\anaconda3\\lib\\site-packages\\ipykernel\\ipkernel.py:287: DeprecationWarning: `should_run_async` will not call `transform_cell` automatically in the future. Please pass the result to `transformed_cell` argument and any exception that happen during thetransform in `preprocessing_exc_tuple` in IPython 7.17 and above.\n",
      "  and should_run_async(code)\n"
     ]
    }
   ],
   "source": [
    "#function to remove URLs\n",
    "def remove_urls(text):\n",
    "    url_pattern = re.compile(r'https?://\\S+|www\\.\\S+')\n",
    "    return url_pattern.sub(r'', text)"
   ]
  },
  {
   "cell_type": "markdown",
   "metadata": {},
   "source": [
    "<b>Bi Gram models:</b> for creating N grams, bi-grams have been chosen in order to capture few key words in companies like 'fire stick' for amazon."
   ]
  },
  {
   "cell_type": "code",
   "execution_count": 15,
   "metadata": {},
   "outputs": [
    {
     "name": "stderr",
     "output_type": "stream",
     "text": [
      "C:\\Users\\mahil\\anaconda3\\lib\\site-packages\\ipykernel\\ipkernel.py:287: DeprecationWarning: `should_run_async` will not call `transform_cell` automatically in the future. Please pass the result to `transformed_cell` argument and any exception that happen during thetransform in `preprocessing_exc_tuple` in IPython 7.17 and above.\n",
      "  and should_run_async(code)\n"
     ]
    }
   ],
   "source": [
    "#Function to create Bi-Grams\n",
    "def genBigram(tokens):\n",
    "    bigrams = [\" \".join(x) for x in list(ngrams(tokens, 2))]\n",
    "    return bigrams"
   ]
  },
  {
   "cell_type": "code",
   "execution_count": 16,
   "metadata": {},
   "outputs": [
    {
     "name": "stderr",
     "output_type": "stream",
     "text": [
      "C:\\Users\\mahil\\anaconda3\\lib\\site-packages\\ipykernel\\ipkernel.py:287: DeprecationWarning: `should_run_async` will not call `transform_cell` automatically in the future. Please pass the result to `transformed_cell` argument and any exception that happen during thetransform in `preprocessing_exc_tuple` in IPython 7.17 and above.\n",
      "  and should_run_async(code)\n"
     ]
    }
   ],
   "source": [
    "#function to find the most dominant topic for each document\n",
    "def format_topics_sentences(ldamodel, corpus, texts):\n",
    "    # Init output\n",
    "    sent_topics_df = pd.DataFrame()\n",
    "\n",
    "    # Get main topic in each document\n",
    "    for i, row in enumerate(ldamodel[corpus]):\n",
    "        row = sorted(row, key=lambda x: (x[1]), reverse=True)\n",
    "        # Get the Dominant topic, Perc Contribution and Keywords for each document\n",
    "        for j, (topic_num, prop_topic) in enumerate(row):\n",
    "            if j == 0:  # => dominant topic\n",
    "                wp = ldamodel.show_topic(topic_num)\n",
    "                topic_keywords = \", \".join([word for word, prop in wp])\n",
    "                sent_topics_df = sent_topics_df.append(pd.Series([int(topic_num), round(prop_topic,4), topic_keywords]), ignore_index=True)\n",
    "            else:\n",
    "                break\n",
    "    sent_topics_df.columns = ['Dominant_Topic', 'Perc_Contribution', 'Topic_Keywords']\n",
    "\n",
    "    # Add original text to the end of the output\n",
    "    contents = pd.Series(texts)\n",
    "    sent_topics_df = pd.concat([sent_topics_df, contents], axis=1)\n",
    "    return(sent_topics_df)"
   ]
  },
  {
   "cell_type": "code",
   "execution_count": 20,
   "metadata": {
    "scrolled": false
   },
   "outputs": [
    {
     "name": "stderr",
     "output_type": "stream",
     "text": [
      "C:\\Users\\mahil\\anaconda3\\lib\\site-packages\\ipykernel\\ipkernel.py:287: DeprecationWarning: `should_run_async` will not call `transform_cell` automatically in the future. Please pass the result to `transformed_cell` argument and any exception that happen during thetransform in `preprocessing_exc_tuple` in IPython 7.17 and above.\n",
      "  and should_run_async(code)\n"
     ]
    }
   ],
   "source": [
    "# Removal of punctuations and other unnecessary characters\n",
    "def textPreProcessingPipeline(data):\n",
    "    def remove_freqwords(data):\n",
    "        return \" \".join([word for word in str(data).split() if word not in freq_words])\n",
    "    def remove_rarewords(data):\n",
    "        return \" \".join([word for word in str(data).split() if word not in rare_words])\n",
    "\n",
    "    text = data['text']\n",
    "    temp3 = []\n",
    "    for i in text:\n",
    "        temp4 = preprocessing(i)\n",
    "        temp3.append(temp4)\n",
    "    data['prep'] = temp3\n",
    "    # Removal of stop_words\n",
    "    data[\"text_stop\"] = data['prep'].apply(lambda text: remove_stopwords(text))\n",
    "    #removal of frequent words\n",
    "    cnt = Counter()\n",
    "    for text in data['text_stop']:\n",
    "        for word in text.split():\n",
    "            cnt[word] += 1\n",
    "    freq_words = set([w for (w, wc) in cnt.most_common(20)])\n",
    "    data[\"text_wo_stopfreq\"] = data[\"text_stop\"].apply(lambda text: remove_freqwords(text))\n",
    "    #removal of rare words\n",
    "    n_rare_words = 20\n",
    "    rare_words = set([w for (w, wc) in cnt.most_common()[:-n_rare_words-1:-1]])\n",
    "    data[\"text_wo_stopfreqrare\"] = data[\"text_wo_stopfreq\"].apply(lambda text: remove_rarewords(text))\n",
    "    # lemmatization\n",
    "    data[\"text_lemmatized\"] = data[\"text_wo_stopfreqrare\"].apply(lambda text: lemmatize_words(text))\n",
    "    #removal of short words\n",
    "    data[\"remove_short\"] = data[\"text_lemmatized\"].apply(lambda text: re_remove(text))\n",
    "    #removal of emojis\n",
    "    data[\"remove_emoji\"] = data[\"remove_short\"].apply(lambda text: remove_emoji(text))\n",
    "    #remove URLs\n",
    "    data[\"remove_URL\"] = data[\"remove_emoji\"].apply(lambda text: remove_urls(text))\n",
    "    #tokenization\n",
    "    data['tokens'] = data['remove_URL'].str.split()\n",
    "    bigram_df = pd.DataFrame()\n",
    "    data['bigrams'] = data[\"tokens\"].apply(lambda text: genBigram(text))\n",
    "    #removing all the coloumns with no tweet left after pre processing\n",
    "    data = data.loc[data['remove_URL'] != '']\n",
    "    #Adding a coloumn 'company' which has the name of the company the particular tweet corresponds to \n",
    "    r1=[]\n",
    "    for i,j in zip(data['author_id'].astype(str),data['sentTo'].astype(str)):\n",
    "        i=re.sub(r'^[0-9]+',re.sub('@','',j),i)\n",
    "        j=re.sub(r'^[0-9]+',re.sub('@','',i),j)\n",
    "        r1.append(i)\n",
    "    data['company']=r1\n",
    "    #collecting only the required coloumns into a new data frame \n",
    "    tweets = data[['company','tokens','bigrams']]\n",
    "    #collecting the tweets for unigrams\n",
    "    tweets_uni = tweets.groupby('company').agg({'tokens': 'sum'})\n",
    "    #bag of words for uni grams\n",
    "    tweets_list_uni = tweets_uni['tokens'].tolist()\n",
    "    #creating a dictionary \n",
    "    dictionary_uni = gensim.corpora.Dictionary(tweets_list_uni)\n",
    "    #creating bag of words\n",
    "    bow_corpus_uni = [dictionary_uni.doc2bow(doc) for doc in tweets_list_uni]\n",
    "    #creating lda model for uni grams\n",
    "    lda_model_uni = gensim.models.LdaMulticore(bow_corpus_uni ,num_topics= 5 ,id2word=dictionary_uni, passes=4, workers=2)\n",
    "    return lda_model_uni,bow_corpus_uni,tweets_uni,dictionary_uni,tweets_list_uni"
   ]
  },
  {
   "cell_type": "code",
   "execution_count": 25,
   "metadata": {},
   "outputs": [
    {
     "name": "stderr",
     "output_type": "stream",
     "text": [
      "C:\\Users\\mahil\\anaconda3\\lib\\site-packages\\ipykernel\\ipkernel.py:287: DeprecationWarning: `should_run_async` will not call `transform_cell` automatically in the future. Please pass the result to `transformed_cell` argument and any exception that happen during thetransform in `preprocessing_exc_tuple` in IPython 7.17 and above.\n",
      "  and should_run_async(code)\n",
      "<ipython-input-20-00fcc7c47d86>:47: SettingWithCopyWarning: \n",
      "A value is trying to be set on a copy of a slice from a DataFrame.\n",
      "Try using .loc[row_indexer,col_indexer] = value instead\n",
      "\n",
      "See the caveats in the documentation: https://pandas.pydata.org/pandas-docs/stable/user_guide/indexing.html#returning-a-view-versus-a-copy\n",
      "  data['company']=r1\n"
     ]
    }
   ],
   "source": [
    "lda_model_uni,bow_corpus_uni,tweets_uni,dictionary_uni,tweets_list_uni = textPreProcessingPipeline(data)\n"
   ]
  },
  {
   "cell_type": "code",
   "execution_count": 26,
   "metadata": {},
   "outputs": [
    {
     "name": "stderr",
     "output_type": "stream",
     "text": [
      "C:\\Users\\mahil\\anaconda3\\lib\\site-packages\\ipykernel\\ipkernel.py:287: DeprecationWarning: `should_run_async` will not call `transform_cell` automatically in the future. Please pass the result to `transformed_cell` argument and any exception that happen during thetransform in `preprocessing_exc_tuple` in IPython 7.17 and above.\n",
      "  and should_run_async(code)\n"
     ]
    },
    {
     "name": "stdout",
     "output_type": "stream",
     "text": [
      "[(0,\n",
      "  '0.018*\"kindly\" + 0.018*\"mpesa\" + 0.012*\"advise\" + 0.010*\"transaction\" + '\n",
      "  '0.009*\"share\" + 0.009*\"follow\" + 0.009*\"line\" + 0.007*\"hello\" + '\n",
      "  '0.007*\"safaricom\" + 0.007*\"assistance\"'),\n",
      " (1,\n",
      "  '0.012*\"wireless\" + 0.011*\"follow\" + 0.011*\"verizon\" + 0.011*\"fios\" + '\n",
      "  '0.010*\"work\" + 0.010*\"router\" + 0.009*\"try\" + 0.009*\"car\" + 0.008*\"jra\" + '\n",
      "  '0.008*\"ddd\"'),\n",
      " (2,\n",
      "  '0.006*\"concern\" + 0.006*\"hey\" + 0.006*\"customer\" + 0.005*\"direct\" + '\n",
      "  '0.005*\"sprint\" + 0.005*\"look\" + 0.004*\"thank\" + 0.004*\"work\" + '\n",
      "  '0.004*\"follow\" + 0.004*\"request\"'),\n",
      " (3,\n",
      "  '0.011*\"look\" + 0.011*\"customer\" + 0.010*\"direct\" + 0.009*\"hey\" + '\n",
      "  '0.009*\"wed\" + 0.008*\"sprint\" + 0.008*\"try\" + 0.008*\"time\" + 0.008*\"order\" + '\n",
      "  '0.007*\"work\"'),\n",
      " (4,\n",
      "  '0.019*\"request\" + 0.018*\"concern\" + 0.015*\"rgds\" + 0.015*\"trouble\" + '\n",
      "  '0.012*\"provide\" + 0.012*\"regard\" + 0.011*\"resolve\" + 0.010*\"amp\" + '\n",
      "  '0.009*\"share\" + 0.009*\"store\"')]\n",
      "\n",
      "Perplexity for uni grams:  -7.201861324274577\n",
      "\n",
      "Coherence Score for uni grams:  0.43925280076528256\n"
     ]
    }
   ],
   "source": [
    "#checking th LDA topics created\n",
    "pprint(lda_model_uni.print_topics())\n",
    "#Formatting the LDA output in a readable way\n",
    "df_topic_sents_keywords_uni = format_topics_sentences(ldamodel= lda_model_uni, corpus=bow_corpus_uni , texts= tweets_list_uni)\n",
    "\n",
    "df_dominant_topic_uni = df_topic_sents_keywords_uni.reset_index()\n",
    "df_dominant_topic_uni.columns = ['Document_No', 'Dominant_Topic', 'Topic_Perc_Contrib', 'Keywords', 'Text']\n",
    "\n",
    "df_dominant_topic_uni['Company'] = tweets_uni.index\n",
    "df_dominant_topic_uni\n",
    "\n",
    "#computing perplexity\n",
    "print('\\nPerplexity for uni grams: ', lda_model_uni.log_perplexity(bow_corpus_uni))\n",
    "# computing coherence score\n",
    "coherence_model_lda_uni = CoherenceModel(model=lda_model_uni, texts=tweets_list_uni, dictionary=dictionary_uni, coherence='c_v')\n",
    "coherence_lda_uni = coherence_model_lda_uni.get_coherence()\n",
    "print('\\nCoherence Score for uni grams: ', coherence_lda_uni)"
   ]
  },
  {
   "cell_type": "code",
   "execution_count": 31,
   "metadata": {},
   "outputs": [
    {
     "name": "stderr",
     "output_type": "stream",
     "text": [
      "C:\\Users\\mahil\\anaconda3\\lib\\site-packages\\ipykernel\\ipkernel.py:287: DeprecationWarning: `should_run_async` will not call `transform_cell` automatically in the future. Please pass the result to `transformed_cell` argument and any exception that happen during thetransform in `preprocessing_exc_tuple` in IPython 7.17 and above.\n",
      "  and should_run_async(code)\n"
     ]
    },
    {
     "data": {
      "text/html": [
       "<div>\n",
       "<style scoped>\n",
       "    .dataframe tbody tr th:only-of-type {\n",
       "        vertical-align: middle;\n",
       "    }\n",
       "\n",
       "    .dataframe tbody tr th {\n",
       "        vertical-align: top;\n",
       "    }\n",
       "\n",
       "    .dataframe thead th {\n",
       "        text-align: right;\n",
       "    }\n",
       "</style>\n",
       "<table border=\"1\" class=\"dataframe\">\n",
       "  <thead>\n",
       "    <tr style=\"text-align: right;\">\n",
       "      <th></th>\n",
       "      <th>Document_No</th>\n",
       "      <th>Dominant_Topic</th>\n",
       "      <th>Topic_Perc_Contrib</th>\n",
       "      <th>Keywords</th>\n",
       "      <th>Text</th>\n",
       "      <th>Company</th>\n",
       "    </tr>\n",
       "  </thead>\n",
       "  <tbody>\n",
       "    <tr>\n",
       "      <th>0</th>\n",
       "      <td>0</td>\n",
       "      <td>3.0</td>\n",
       "      <td>1.0000</td>\n",
       "      <td>look, customer, direct, hey, wed, sprint, try,...</td>\n",
       "      <td>[unaware, indur, manage, youd, usually, discou...</td>\n",
       "      <td>O2</td>\n",
       "    </tr>\n",
       "    <tr>\n",
       "      <th>1</th>\n",
       "      <td>1</td>\n",
       "      <td>0.0</td>\n",
       "      <td>1.0000</td>\n",
       "      <td>kindly, mpesa, advise, transaction, share, fol...</td>\n",
       "      <td>[airtime, reverse, edwe, credit, line, upsb, k...</td>\n",
       "      <td>Safaricom_Care</td>\n",
       "    </tr>\n",
       "    <tr>\n",
       "      <th>2</th>\n",
       "      <td>2</td>\n",
       "      <td>1.0</td>\n",
       "      <td>0.9998</td>\n",
       "      <td>wireless, follow, verizon, fios, work, router,...</td>\n",
       "      <td>[trouble, helphsb, awesome, tweet, awayhsb, fr...</td>\n",
       "      <td>VerizonSupport</td>\n",
       "    </tr>\n",
       "    <tr>\n",
       "      <th>3</th>\n",
       "      <td>3</td>\n",
       "      <td>4.0</td>\n",
       "      <td>1.0000</td>\n",
       "      <td>request, concern, rgds, trouble, provide, rega...</td>\n",
       "      <td>[apologise, trouble, causedplease, alternate, ...</td>\n",
       "      <td>idea_cares</td>\n",
       "    </tr>\n",
       "    <tr>\n",
       "      <th>4</th>\n",
       "      <td>4</td>\n",
       "      <td>3.0</td>\n",
       "      <td>1.0000</td>\n",
       "      <td>look, customer, direct, hey, wed, sprint, try,...</td>\n",
       "      <td>[understand, private, secure, link, private, c...</td>\n",
       "      <td>sprintcare</td>\n",
       "    </tr>\n",
       "  </tbody>\n",
       "</table>\n",
       "</div>"
      ],
      "text/plain": [
       "   Document_No  Dominant_Topic  Topic_Perc_Contrib  \\\n",
       "0            0             3.0              1.0000   \n",
       "1            1             0.0              1.0000   \n",
       "2            2             1.0              0.9998   \n",
       "3            3             4.0              1.0000   \n",
       "4            4             3.0              1.0000   \n",
       "\n",
       "                                            Keywords  \\\n",
       "0  look, customer, direct, hey, wed, sprint, try,...   \n",
       "1  kindly, mpesa, advise, transaction, share, fol...   \n",
       "2  wireless, follow, verizon, fios, work, router,...   \n",
       "3  request, concern, rgds, trouble, provide, rega...   \n",
       "4  look, customer, direct, hey, wed, sprint, try,...   \n",
       "\n",
       "                                                Text         Company  \n",
       "0  [unaware, indur, manage, youd, usually, discou...              O2  \n",
       "1  [airtime, reverse, edwe, credit, line, upsb, k...  Safaricom_Care  \n",
       "2  [trouble, helphsb, awesome, tweet, awayhsb, fr...  VerizonSupport  \n",
       "3  [apologise, trouble, causedplease, alternate, ...      idea_cares  \n",
       "4  [understand, private, secure, link, private, c...      sprintcare  "
      ]
     },
     "execution_count": 31,
     "metadata": {},
     "output_type": "execute_result"
    }
   ],
   "source": [
    "df_dominant_topic_uni"
   ]
  },
  {
   "cell_type": "code",
   "execution_count": 27,
   "metadata": {},
   "outputs": [
    {
     "name": "stderr",
     "output_type": "stream",
     "text": [
      "C:\\Users\\mahil\\anaconda3\\lib\\site-packages\\ipykernel\\ipkernel.py:287: DeprecationWarning: `should_run_async` will not call `transform_cell` automatically in the future. Please pass the result to `transformed_cell` argument and any exception that happen during thetransform in `preprocessing_exc_tuple` in IPython 7.17 and above.\n",
      "  and should_run_async(code)\n"
     ]
    },
    {
     "data": {
      "text/html": [
       "\n",
       "<link rel=\"stylesheet\" type=\"text/css\" href=\"https://cdn.jsdelivr.net/gh/bmabey/pyLDAvis@3.2.2/pyLDAvis/js/ldavis.v1.0.0.css\">\n",
       "\n",
       "\n",
       "<div id=\"ldavis_el1094017529154441127484893585\"></div>\n",
       "<script type=\"text/javascript\">\n",
       "\n",
       "var ldavis_el1094017529154441127484893585_data = {\"mdsDat\": {\"x\": [-0.055481335668913674, 0.14550096431871198, -0.12743977936653808, 0.02131028497777481, 0.01610986573896503], \"y\": [0.03529958621083337, 0.06839295869247211, 0.03896233835955286, -0.1402330075365716, -0.002421875726286714], \"topics\": [1, 2, 3, 4, 5], \"cluster\": [1, 1, 1, 1, 1], \"Freq\": [42.68779404945403, 21.968212283757634, 19.631349768755506, 15.7125288949392, 0.00011500309363221027]}, \"tinfo\": {\"Term\": [\"direct\", \"concern\", \"hey\", \"sprint\", \"customer\", \"look\", \"request\", \"thank\", \"work\", \"follow\", \"order\", \"amp\", \"rgds\", \"try\", \"time\", \"trouble\", \"provide\", \"get\", \"thanks\", \"detail\", \"store\", \"dont\", \"hello\", \"kindly\", \"good\", \"wed\", \"regard\", \"account\", \"whats\", \"resolve\", \"postcode\", \"oguru\", \"yearly\", \"timescale\", \"nero\", \"allowance\", \"myo\", \"colour\", \"opriority\", \"emma\", \"tugo\", \"timescales\", \"advisor\", \"whilst\", \"venue\", \"programme\", \"warehouse\", \"manchester\", \"emailtext\", \"presale\", \"dpd\", \"carphone\", \"pac\", \"payg\", \"caffe\", \"handy\", \"hint\", \"stuart\", \"neil\", \"luke\", \"sprint\", \"mast\", \"instore\", \"preorders\", \"direct\", \"preorder\", \"recycle\", \"por\", \"shoot\", \"youd\", \"insurance\", \"felicia\", \"contract\", \"iphone\", \"priority\", \"resolutionsup\", \"upgrade\", \"wed\", \"exactly\", \"sup\", \"iphonex\", \"order\", \"tariff\", \"review\", \"info\", \"youve\", \"delivery\", \"hey\", \"drop\", \"street\", \"text\", \"chat\", \"whats\", \"look\", \"feel\", \"leave\", \"hate\", \"weve\", \"happy\", \"offer\", \"signal\", \"today\", \"way\", \"customer\", \"new\", \"hear\", \"thanks\", \"say\", \"try\", \"data\", \"device\", \"time\", \"get\", \"work\", \"thank\", \"dont\", \"tell\", \"team\", \"day\", \"network\", \"account\", \"concern\", \"rgdspradnya\", \"rgds\", \"shruti\", \"ganesh\", \"heetali\", \"telecon\", \"aadhaar\", \"pincode\", \"troubleplease\", \"troublewe\", \"yogita\", \"pradnya\", \"mahindra\", \"furtherregardspritam\", \"teleconyour\", \"causedwe\", \"mnp\", \"affirm\", \"jio\", \"regardssneha\", \"furtherregardsdarshan\", \"dinesh\", \"aadhar\", \"betterregardsshweta\", \"regardspradnya\", \"betterrgdsmohit\", \"yourgdsmohit\", \"alternate\", \"rgdssneha\", \"optimization\", \"prashant\", \"hai\", \"dnd\", \"amit\", \"vicky\", \"mandatory\", \"await\", \"neha\", \"face\", \"recharge\", \"trouble\", \"pls\", \"request\", \"port\", \"inform\", \"regard\", \"concern\", \"discuss\", \"response\", \"bear\", \"provide\", \"resolve\", \"apology\", \"share\", \"elaborate\", \"store\", \"check\", \"detail\", \"amp\", \"touch\", \"visit\", \"inconvenience\", \"network\", \"link\", \"customer\", \"time\", \"day\", \"team\", \"assistance\", \"dont\", \"get\", \"ddg\", \"bcw\", \"acm\", \"kmg\", \"fios\", \"rmd\", \"hsb\", \"adp\", \"dsl\", \"coax\", \"txa\", \"servicetxa\", \"ddd\", \"fem\", \"ethernet\", \"nhp\", \"dvr\", \"univision\", \"jra\", \"ont\", \"hardwired\", \"residential\", \"gigabit\", \"usacm\", \"bab\", \"concernstdc\", \"broadcaster\", \"tdc\", \"splitter\", \"wired\", \"car\", \"wire\", \"wireless\", \"mobileadp\", \"router\", \"unplug\", \"verizon\", \"cable\", \"light\", \"channel\", \"unit\", \"red\", \"reboot\", \"box\", \"battery\", \"test\", \"partner\", \"reset\", \"follow\", \"speed\", \"work\", \"try\", \"yes\", \"account\", \"time\", \"get\", \"thank\", \"dont\", \"look\", \"thanks\", \"link\", \"customer\", \"device\", \"service\", \"mpesa\", \"safaricom\", \"kcpe\", \"hakikisha\", \"ksh\", \"kcb\", \"paybill\", \"mshwari\", \"mysafaricom\", \"kwa\", \"okoa\", \"lipa\", \"kshs\", \"pesa\", \"assistancede\", \"hiplease\", \"pliz\", \"kplc\", \"skiza\", \"ama\", \"kenya\", \"storo\", \"pesapal\", \"tunukiwa\", \"assistancebd\", \"juja\", \"bonga\", \"hiyou\", \"safcom\", \"jambo\", \"reversal\", \"fibre\", \"contd\", \"reverse\", \"transaction\", \"transact\", \"cont\", \"serial\", \"hiwe\", \"recipient\", \"bundle\", \"kindly\", \"puk\", \"airtime\", \"loan\", \"withdraw\", \"challenge\", \"fund\", \"advise\", \"dial\", \"line\", \"bonus\", \"chargeable\", \"shop\", \"wrong\", \"share\", \"balance\", \"confirm\", \"delay\", \"money\", \"hello\", \"welcome\", \"buy\", \"follow\", \"assistance\", \"apology\", \"card\", \"use\", \"account\", \"thanks\", \"receive\", \"try\", \"data\", \"thank\", \"touch\", \"time\", \"work\", \"network\", \"hey\", \"customer\", \"adelita\", \"inyour\", \"passwordtried\", \"reclaimingmybills\", \"metropca\", \"conpletely\", \"sprintripoff\", \"stockonly\", \"fixedampprovide\", \"unsatisfaction\", \"mitigar\", \"wcs\", \"unpalatable\", \"inquires\", \"gpad\", \"klaudia\", \"leobardo\", \"dread\", \"murphey\", \"completamente\", \"dolares\", \"dazhon\", \"perfectamente\", \"porter\", \"homerun\", \"luisnunez\", \"roamingstatus\", \"daysany\", \"deadzones\", \"daw\", \"bac\", \"mimix\", \"sprint\", \"hey\", \"direct\", \"concern\", \"reach\", \"hello\", \"thank\", \"visit\", \"good\", \"customer\", \"follow\", \"amp\", \"experience\", \"feel\", \"detail\", \"request\", \"look\", \"shoot\", \"provide\", \"order\", \"hear\", \"today\", \"work\", \"near\", \"definitely\", \"service\", \"resolution\", \"apologize\", \"trouble\", \"rgds\", \"get\", \"regard\", \"thanks\", \"dont\", \"account\", \"time\", \"try\", \"resolve\", \"network\", \"link\", \"store\"], \"Freq\": [4260.0, 5788.0, 4586.0, 3319.0, 7343.0, 6378.0, 4865.0, 4938.0, 6243.0, 4731.0, 3507.0, 4545.0, 3055.0, 5991.0, 6455.0, 3575.0, 3935.0, 5216.0, 5039.0, 3659.0, 3757.0, 4660.0, 2915.0, 3465.0, 3197.0, 4130.0, 3071.0, 4188.0, 3839.0, 3752.0, 570.7453141075437, 169.30069145084, 84.76975838470887, 160.2131847557368, 110.09261878616562, 159.9187442337783, 80.8975909524005, 91.61240134823805, 149.12933997380838, 93.42589102694387, 254.95712541250717, 56.43888164170824, 113.87010117030593, 92.49462683206026, 66.14835461750506, 61.07564303188645, 71.74192439481736, 113.64810071124525, 56.3023920240301, 53.23986204156897, 46.512225487474666, 62.03277476322623, 168.06112129602457, 56.13442292978326, 49.39904255598291, 400.43244568465076, 109.46068363919788, 35.69808813597365, 37.58255460803622, 41.48166373721291, 3114.494180365871, 250.8913186442654, 97.28744290456673, 101.77680866063719, 3827.268447788878, 372.69481787254927, 274.12288737062585, 175.50735472462503, 618.0099506008665, 535.9224365302515, 276.546105573901, 228.66345417568638, 1596.4906858973045, 2058.632551178659, 574.7052393494437, 163.96362679562398, 2016.3611384004546, 3450.770751311015, 899.2604403472196, 346.1227637158497, 208.27779673560772, 2894.1602921454814, 605.2954426267106, 804.2122382732939, 2014.3590787653116, 773.3009706409955, 468.9977708377276, 3531.398196400167, 941.9664277378876, 440.167568434969, 1346.7221717867244, 1857.137419796628, 2741.2149315425413, 4311.7118123311475, 1571.4915971735506, 1208.2114226457109, 659.2955910236802, 1088.4300851974263, 1420.598014487688, 2145.7614288881705, 1070.931617493754, 1982.6724865318424, 1691.2598693237608, 4026.9086575905912, 2032.5080930892154, 1696.0224773748803, 2722.940525431748, 2104.2614825023097, 3051.2363914174966, 2113.9662806881493, 1759.7884976496955, 2918.4738473098646, 2532.2632854822505, 2752.514923705366, 2372.345089289499, 2277.040140955425, 1841.005722570048, 2019.274787557626, 2081.206931027545, 1959.0574425383397, 1898.7257542392608, 1979.243240376833, 542.5949336484194, 2976.490454393529, 315.4958670387303, 523.0644807962899, 140.05559753535513, 365.4177868095824, 337.92709084619634, 328.9811893921388, 394.2287708257863, 257.011749734564, 722.6410152534734, 206.3751740783993, 610.5674762672969, 132.3631980818162, 123.56715911403272, 187.38424422714095, 174.4828936999515, 110.70316139413424, 135.06220070178588, 345.26762256811156, 123.2259072059248, 74.15992628085306, 503.45469694419955, 134.0369332661432, 155.3839441779558, 180.43160183566556, 84.03158169634195, 1636.581381421574, 104.33033926346465, 78.19877330865083, 193.6319214797438, 154.74499795429526, 184.33696136957306, 320.54193685847946, 504.5600963611736, 202.85938480766688, 1419.497379736973, 182.79025506174762, 771.0584212562972, 671.7319479913568, 2860.476402944566, 1762.9180295161786, 3719.756401494041, 1186.2405939795854, 934.6161998171617, 2231.145295032383, 3427.9645289418977, 563.1731603845594, 1755.7910552216324, 520.0043709553665, 2249.3518949005247, 2141.0949531746933, 1716.6105663831888, 1833.8283912991344, 992.0044617922332, 1774.5554088778945, 841.7495623351517, 1684.4879192500198, 1931.4275425979197, 1139.0840454681752, 1113.1052638894237, 1095.3146328253997, 1602.269234790055, 1335.0316153714057, 1654.9636105569782, 1541.1697440898538, 1310.2609393278938, 1173.1683072590788, 1012.2167190120579, 1042.6909239219228, 1006.6180622980993, 876.1670206401303, 1087.5984914876885, 485.85601290886325, 732.1819246191227, 1932.5127843486346, 1134.07569946299, 681.022928884195, 376.28786378964605, 500.006625680012, 248.22961694238953, 347.00499518591374, 136.2311017935603, 1404.388736645777, 346.2956700636758, 139.13403199464625, 296.13356042009804, 146.5290387536773, 68.36673324588645, 1409.546526323703, 185.45902137954602, 116.74053908817915, 624.7218300814922, 62.712577284297765, 48.395027124019684, 520.3056637716619, 82.62743456642178, 61.7319927666071, 418.04513610505796, 95.8188958103557, 84.12294516808838, 1482.6258055860083, 590.2558474009273, 2001.6530711186033, 130.51458248339057, 1698.4619475223558, 157.9172757702188, 1949.8327375778372, 598.8631992693932, 542.9747107367722, 779.1561037602264, 362.21088533761076, 418.2444246072808, 600.9190323596042, 903.1016158019478, 554.8131413669955, 770.4849973142585, 524.156827377345, 799.3119864121978, 1962.4463851580265, 937.4719867789978, 1756.6162842240178, 1611.6916852639595, 1081.2855382252471, 1131.1780720619936, 1234.5834803167418, 1073.7760474399493, 960.1598254159081, 943.2364329173529, 1013.5818868620348, 920.5433519685671, 823.0156237886858, 929.1439694825467, 766.9820038680639, 737.8960445634724, 2447.6015719940383, 998.3491425456718, 90.60150322832685, 100.32106671772077, 468.5761917243933, 125.52768865850787, 183.85571250107725, 257.1882410704516, 78.86146589530497, 93.98551168006219, 71.00468533522512, 97.33869685529551, 74.45080026843587, 76.03975630995609, 49.69896689662347, 40.944212306345506, 66.22070706463764, 60.34957085263049, 44.474074565947475, 69.95613717863849, 48.77621724587577, 89.09000075516865, 79.4443566469357, 127.54265949832053, 51.3724166396858, 49.602882190710886, 186.20191252947836, 38.3208650293441, 49.53557932440111, 52.270656944262065, 713.1697999485032, 285.68626446181867, 267.89957172251997, 714.9315357857663, 1389.3521845054981, 58.37280231716308, 334.3255238847345, 221.70982678673087, 77.46433230202626, 153.0657606409302, 768.4518466279495, 2514.7143345356503, 150.037172001593, 462.7726690321372, 190.58201308530306, 155.1635992947941, 187.00497991616422, 165.1547465120689, 1629.4314898871912, 732.3654391807662, 1221.1399787563632, 153.64832056681837, 199.23747960820998, 456.23319623433224, 637.6102331694141, 1250.8064948082965, 479.6678912912013, 658.7927633979748, 416.61247248340317, 704.0060237066117, 1004.6526478309048, 510.16285955387167, 519.044739987419, 1229.0912867206894, 981.3297234614981, 879.4516616965567, 506.40868130297224, 811.1284319696757, 874.6289001593443, 920.8275370455798, 748.4757168487004, 859.1720114018887, 696.1864005256658, 750.5593057888725, 594.6488472079457, 760.953947447184, 750.1327503729032, 685.9134381892524, 679.0202561902059, 732.562191739464, 1.1881281131908965e-05, 1.1832558266468255e-05, 1.1882564721034496e-05, 1.1818659330876057e-05, 1.1813127255529143e-05, 1.1823402428004188e-05, 1.1643030933811602e-05, 1.1784381687700668e-05, 1.1801625706384201e-05, 1.169180178389252e-05, 1.180796244723612e-05, 1.1611740334489083e-05, 1.159713177989075e-05, 1.1672117008029238e-05, 1.1643777464079434e-05, 1.1685933816064159e-05, 1.1639492066596353e-05, 1.1741661516193514e-05, 1.1664574191701353e-05, 1.1650960395605769e-05, 1.1632446629519841e-05, 1.1628557105318467e-05, 1.1658018751623876e-05, 1.1635194672953221e-05, 1.164780725107526e-05, 1.1606274699413224e-05, 1.1640455450526659e-05, 1.1608062127260926e-05, 1.1563806447267156e-05, 1.1569140124582446e-05, 1.1629008345492718e-05, 1.1672432599316752e-05, 0.00478641760225043, 0.005798046028044502, 0.0050260145667888455, 0.005971661011752638, 0.0029203965834597254, 0.0030893955924250188, 0.004552052705706104, 0.0023806618069329606, 0.0031322608473374008, 0.005739607409828782, 0.004130404910066157, 0.0037548646545661002, 0.0023315193933272915, 0.00211973592081922, 0.0031475023045755544, 0.0038266043197570402, 0.0046356897268834225, 0.0009189263530919576, 0.003258792652436458, 0.0029521754670987373, 0.002365400978664668, 0.002555708357014774, 0.004363745031869723, 0.0014747916462706271, 0.0008421294316423282, 0.002207735439723053, 0.0016152674039366477, 0.0012079923220795414, 0.002811731482646786, 0.002511814547648434, 0.0035433266271838126, 0.0024590034499201263, 0.003290762175359885, 0.003105894749229749, 0.0028750981381762443, 0.003601400030611792, 0.0034340662215422155, 0.002654658649981004, 0.002767094487172924, 0.002507671037055319, 0.0024981508844382975], \"Total\": [4260.0, 5788.0, 4586.0, 3319.0, 7343.0, 6378.0, 4865.0, 4938.0, 6243.0, 4731.0, 3507.0, 4545.0, 3055.0, 5991.0, 6455.0, 3575.0, 3935.0, 5216.0, 5039.0, 3659.0, 3757.0, 4660.0, 2915.0, 3465.0, 3197.0, 4130.0, 3071.0, 4188.0, 3839.0, 3752.0, 593.1161596731688, 176.50479730901324, 88.4184290213733, 167.2108206877523, 114.90643123434418, 166.91888984170146, 84.45661517676363, 95.64342937618935, 155.7329846207757, 97.60730874329462, 266.3832278717251, 58.97222586977034, 118.99648357284926, 96.74293468266289, 69.19044344222773, 63.93602975638207, 75.11706810113644, 118.9961367988494, 58.956901285478956, 55.781858358234956, 48.744769289779306, 65.01753748326692, 176.18792888776434, 58.86357278325591, 51.811158255490675, 419.9967027405727, 114.82153985799177, 37.4525132380857, 39.491339935997274, 43.6240162381073, 3319.519793792213, 266.1277252158846, 102.37115025665395, 107.5170964515725, 4260.169869338999, 400.80105093189735, 293.7641511292984, 186.52596236292885, 674.7633674868882, 583.7400081386246, 297.31634159374136, 245.41271956419965, 1791.1596969838452, 2345.8088165426007, 634.9638377992442, 174.7966253495492, 2329.878190354483, 4130.354292392589, 1018.9433535643582, 379.55991310548075, 224.20421332112733, 3507.548700846372, 682.5092557544755, 929.0134014374826, 2465.3448370829033, 897.4163426987998, 530.1467377165328, 4586.439657182418, 1118.319655688859, 496.9785603532171, 1716.2455717846385, 2487.634540492816, 3839.3579305960257, 6378.814331082153, 2101.0284340031667, 1561.9682103520283, 793.500075378232, 1413.2092167254511, 1951.897425179052, 3204.5608962424258, 1407.4101215919277, 2934.7612884168593, 2428.778717077987, 7343.5841689769895, 3212.0691940272486, 2611.0961010053757, 5039.590561658792, 3554.499025579455, 5991.27914960842, 3647.2686619795613, 2834.1919020522164, 6455.184620563675, 5216.669088079538, 6243.058821418125, 4938.534836253065, 4660.919695215768, 3346.8497112993414, 4171.40045865582, 4533.045122765111, 4721.90704357241, 4188.722392908151, 5788.560678463345, 556.9729401190821, 3055.371505975287, 323.9699465743695, 537.1698093171108, 143.8350612945057, 375.526051007616, 347.5224449131044, 338.3605379347267, 405.52323603688194, 264.4398860262027, 743.8791463261774, 212.4826834313586, 628.9210916552532, 136.4001613607547, 127.36267780323645, 193.1461844574878, 179.873582798578, 114.12818032552218, 139.25135324787217, 356.0853610912909, 127.09474200149481, 76.49160661222763, 519.2997032378178, 138.369202650655, 160.4200165755142, 186.2950786829013, 86.77713633416687, 1690.2326767079633, 107.7653202267322, 80.82443015464752, 200.51182046673043, 160.3025352132192, 191.31842375509845, 334.767675498036, 530.3668054395787, 212.04714016082468, 1587.4720719251136, 190.72742763135213, 862.7359211219083, 761.2818619605287, 3575.5501627236713, 2144.7016467639996, 4865.627820114431, 1423.911669405282, 1132.9076823998007, 3071.202972524584, 5788.560678463345, 704.5267287878469, 2841.0140156640578, 658.937769435019, 3935.5229057004926, 3752.583360118527, 2952.5633377432896, 3314.140205624109, 1501.6834091252665, 3757.668074116963, 1311.1078784315007, 3659.9775948571582, 4545.629779225301, 2168.7485068014844, 2155.6669616432564, 2112.0638242467803, 4721.90704357241, 3518.839093164533, 7343.5841689769895, 6455.184620563675, 4533.045122765111, 4171.40045865582, 3566.9937762281043, 4660.919695215768, 5216.669088079538, 912.0199240846136, 1133.734447781994, 506.4919571099483, 763.9818100274816, 2017.285913738422, 1185.6466423902036, 712.0866126389137, 393.4614909541711, 523.0468108736095, 259.6876931835706, 363.36456937945593, 142.76360524739226, 1472.0118317499177, 362.97385089809853, 145.9191333221066, 310.8644697692237, 153.87203365435855, 71.79389919706827, 1480.521500919684, 194.80070530390472, 122.76513944344747, 656.984253762589, 65.96421151575493, 50.9352799804208, 547.6424594428925, 87.0034203552967, 65.02565087000386, 440.37732325542873, 100.95161472409416, 88.68686506487406, 1587.7792485164773, 627.1302031188475, 2153.4004171456204, 137.86909037728208, 1864.3984143497707, 167.88022670842258, 2212.7341567209332, 655.9210372904114, 599.3888949661673, 898.4515542494934, 403.11185123492317, 477.1887189826991, 712.419398088846, 1127.2780990337692, 659.0355172971573, 1066.77158184368, 651.048956519096, 1212.767834482045, 4731.004904359375, 1764.3800610603155, 6243.058821418125, 5991.27914960842, 2850.917615006625, 4188.722392908151, 6455.184620563675, 5216.669088079538, 4938.534836253065, 4660.919695215768, 6378.814331082153, 5039.590561658792, 3518.839093164533, 7343.5841689769895, 2834.1919020522164, 2510.405735865467, 2551.1816136128687, 1040.9536829034132, 94.51803881266206, 104.76913566651803, 489.48477887391175, 131.2739329619522, 192.27447185548473, 269.2983545382941, 82.57725454088597, 98.51180721738582, 74.44441966605532, 102.08079712827075, 78.12347450928374, 79.8433108482154, 52.187445691170765, 43.002652955164855, 69.56277396868207, 63.39681710408969, 46.728464002761335, 73.54045954077476, 51.294898818494154, 93.70306488038887, 83.57893842214155, 134.18154555125997, 54.07543664540677, 52.213753096365075, 196.0029075456074, 40.33975081841962, 52.18600774513493, 55.07236126805355, 751.8818871286126, 303.2244892785638, 285.1348321565056, 781.214394721177, 1541.3367110649078, 61.56162838611521, 368.1662903758092, 241.25740483554168, 82.43174095326052, 167.76660823156607, 954.9450482452659, 3465.76106229206, 167.2992766775067, 565.9082027926726, 217.81769826461587, 174.95381006815816, 215.22703094621198, 190.59515178567824, 2610.864783374718, 1146.7169905751653, 2228.6143234442707, 180.69000016505416, 249.04960113356609, 725.9879720727072, 1179.914745327167, 3314.140205624109, 880.1106356921123, 1397.2993614752445, 729.8728178224151, 1622.5304991189305, 2915.3212341968206, 1044.053774850113, 1134.9637036167135, 4731.004904359375, 3566.9937762281043, 2952.5633377432896, 1211.2886578996574, 3522.6497230500663, 4188.722392908151, 5039.590561658792, 3081.225695527352, 5991.27914960842, 3647.2686619795613, 4938.534836253065, 2168.7485068014844, 6455.184620563675, 6243.058821418125, 4721.90704357241, 4586.439657182418, 7343.5841689769895, 1.6235086173366557, 1.6287758163082546, 1.6378677094886798, 1.6309775464111345, 1.6306301420688678, 1.633276706280337, 1.6101389500997536, 1.630617009625385, 1.6374526622313774, 1.6283313702111295, 1.6451363745588776, 1.6206777697108337, 1.620370294805739, 1.6322647837352402, 1.6291470148906555, 1.6367619759228373, 1.6308265397735722, 1.6483468759376432, 1.6381018827159968, 1.6396349663534306, 1.637293923640002, 1.6371666067100632, 1.642101811478207, 1.6394039630947743, 1.6415932736629857, 1.636785082787591, 1.641981005760102, 1.6378394854861629, 1.6324330505014213, 1.6335904759057007, 1.642123291845753, 1.6490245408556294, 3319.519793792213, 4586.439657182418, 4260.169869338999, 5788.560678463345, 2376.9039499789565, 2915.3212341968206, 4938.534836253065, 2155.6669616432564, 3197.471239777202, 7343.5841689769895, 4731.004904359375, 4545.629779225301, 2367.3444552516075, 2101.0284340031667, 3659.9775948571582, 4865.627820114431, 6378.814331082153, 674.7633674868882, 3935.5229057004926, 3507.548700846372, 2611.0961010053757, 2934.7612884168593, 6243.058821418125, 1368.0104670751175, 633.0531632367955, 2510.405735865467, 1621.321960459204, 1081.8691226183098, 3575.5501627236713, 3055.371505975287, 5216.669088079538, 3071.202972524584, 5039.590561658792, 4660.919695215768, 4188.722392908151, 6455.184620563675, 5991.27914960842, 3752.583360118527, 4721.90704357241, 3518.839093164533, 3757.668074116963], \"Category\": [\"Default\", \"Default\", \"Default\", \"Default\", \"Default\", \"Default\", \"Default\", \"Default\", \"Default\", \"Default\", \"Default\", \"Default\", \"Default\", \"Default\", \"Default\", \"Default\", \"Default\", \"Default\", \"Default\", \"Default\", \"Default\", \"Default\", \"Default\", \"Default\", \"Default\", \"Default\", \"Default\", \"Default\", \"Default\", \"Default\", \"Topic1\", \"Topic1\", \"Topic1\", \"Topic1\", \"Topic1\", \"Topic1\", \"Topic1\", \"Topic1\", \"Topic1\", \"Topic1\", \"Topic1\", \"Topic1\", \"Topic1\", \"Topic1\", \"Topic1\", \"Topic1\", \"Topic1\", \"Topic1\", \"Topic1\", \"Topic1\", \"Topic1\", \"Topic1\", \"Topic1\", \"Topic1\", \"Topic1\", \"Topic1\", \"Topic1\", \"Topic1\", \"Topic1\", \"Topic1\", \"Topic1\", \"Topic1\", \"Topic1\", \"Topic1\", \"Topic1\", \"Topic1\", \"Topic1\", \"Topic1\", \"Topic1\", \"Topic1\", \"Topic1\", \"Topic1\", \"Topic1\", \"Topic1\", \"Topic1\", \"Topic1\", \"Topic1\", \"Topic1\", \"Topic1\", \"Topic1\", \"Topic1\", \"Topic1\", \"Topic1\", \"Topic1\", \"Topic1\", \"Topic1\", \"Topic1\", \"Topic1\", \"Topic1\", \"Topic1\", \"Topic1\", \"Topic1\", \"Topic1\", \"Topic1\", \"Topic1\", \"Topic1\", \"Topic1\", \"Topic1\", \"Topic1\", \"Topic1\", \"Topic1\", \"Topic1\", \"Topic1\", \"Topic1\", \"Topic1\", \"Topic1\", \"Topic1\", \"Topic1\", \"Topic1\", \"Topic1\", \"Topic1\", \"Topic1\", \"Topic1\", \"Topic1\", \"Topic1\", \"Topic1\", \"Topic1\", \"Topic1\", \"Topic1\", \"Topic1\", \"Topic1\", \"Topic1\", \"Topic2\", \"Topic2\", \"Topic2\", \"Topic2\", \"Topic2\", \"Topic2\", \"Topic2\", \"Topic2\", \"Topic2\", \"Topic2\", \"Topic2\", \"Topic2\", \"Topic2\", \"Topic2\", \"Topic2\", \"Topic2\", \"Topic2\", \"Topic2\", \"Topic2\", \"Topic2\", \"Topic2\", \"Topic2\", \"Topic2\", \"Topic2\", \"Topic2\", \"Topic2\", \"Topic2\", \"Topic2\", \"Topic2\", \"Topic2\", \"Topic2\", \"Topic2\", \"Topic2\", \"Topic2\", \"Topic2\", \"Topic2\", \"Topic2\", \"Topic2\", \"Topic2\", \"Topic2\", \"Topic2\", \"Topic2\", \"Topic2\", \"Topic2\", \"Topic2\", \"Topic2\", \"Topic2\", \"Topic2\", \"Topic2\", \"Topic2\", \"Topic2\", \"Topic2\", \"Topic2\", \"Topic2\", \"Topic2\", \"Topic2\", \"Topic2\", \"Topic2\", \"Topic2\", \"Topic2\", \"Topic2\", \"Topic2\", \"Topic2\", \"Topic2\", \"Topic2\", \"Topic2\", \"Topic2\", \"Topic2\", \"Topic2\", \"Topic2\", \"Topic2\", \"Topic3\", \"Topic3\", \"Topic3\", \"Topic3\", \"Topic3\", \"Topic3\", \"Topic3\", \"Topic3\", \"Topic3\", \"Topic3\", \"Topic3\", \"Topic3\", \"Topic3\", \"Topic3\", \"Topic3\", \"Topic3\", \"Topic3\", \"Topic3\", \"Topic3\", \"Topic3\", \"Topic3\", \"Topic3\", \"Topic3\", \"Topic3\", \"Topic3\", \"Topic3\", \"Topic3\", \"Topic3\", \"Topic3\", \"Topic3\", \"Topic3\", \"Topic3\", \"Topic3\", \"Topic3\", \"Topic3\", \"Topic3\", \"Topic3\", \"Topic3\", \"Topic3\", \"Topic3\", \"Topic3\", \"Topic3\", \"Topic3\", \"Topic3\", \"Topic3\", \"Topic3\", \"Topic3\", \"Topic3\", \"Topic3\", \"Topic3\", \"Topic3\", \"Topic3\", \"Topic3\", \"Topic3\", \"Topic3\", \"Topic3\", \"Topic3\", \"Topic3\", \"Topic3\", \"Topic3\", \"Topic3\", \"Topic3\", \"Topic3\", \"Topic3\", \"Topic4\", \"Topic4\", \"Topic4\", \"Topic4\", \"Topic4\", \"Topic4\", \"Topic4\", \"Topic4\", \"Topic4\", \"Topic4\", \"Topic4\", \"Topic4\", \"Topic4\", \"Topic4\", \"Topic4\", \"Topic4\", \"Topic4\", \"Topic4\", \"Topic4\", \"Topic4\", \"Topic4\", \"Topic4\", \"Topic4\", \"Topic4\", \"Topic4\", \"Topic4\", \"Topic4\", \"Topic4\", \"Topic4\", \"Topic4\", \"Topic4\", \"Topic4\", \"Topic4\", \"Topic4\", \"Topic4\", \"Topic4\", \"Topic4\", \"Topic4\", \"Topic4\", \"Topic4\", \"Topic4\", \"Topic4\", \"Topic4\", \"Topic4\", \"Topic4\", \"Topic4\", \"Topic4\", \"Topic4\", \"Topic4\", \"Topic4\", \"Topic4\", \"Topic4\", \"Topic4\", \"Topic4\", \"Topic4\", \"Topic4\", \"Topic4\", \"Topic4\", \"Topic4\", \"Topic4\", \"Topic4\", \"Topic4\", \"Topic4\", \"Topic4\", \"Topic4\", \"Topic4\", \"Topic4\", \"Topic4\", \"Topic4\", \"Topic4\", \"Topic4\", \"Topic4\", \"Topic4\", \"Topic4\", \"Topic4\", \"Topic4\", \"Topic4\", \"Topic4\", \"Topic4\", \"Topic4\", \"Topic5\", \"Topic5\", \"Topic5\", \"Topic5\", \"Topic5\", \"Topic5\", \"Topic5\", \"Topic5\", \"Topic5\", \"Topic5\", \"Topic5\", \"Topic5\", \"Topic5\", \"Topic5\", \"Topic5\", \"Topic5\", \"Topic5\", \"Topic5\", \"Topic5\", \"Topic5\", \"Topic5\", \"Topic5\", \"Topic5\", \"Topic5\", \"Topic5\", \"Topic5\", \"Topic5\", \"Topic5\", \"Topic5\", \"Topic5\", \"Topic5\", \"Topic5\", \"Topic5\", \"Topic5\", \"Topic5\", \"Topic5\", \"Topic5\", \"Topic5\", \"Topic5\", \"Topic5\", \"Topic5\", \"Topic5\", \"Topic5\", \"Topic5\", \"Topic5\", \"Topic5\", \"Topic5\", \"Topic5\", \"Topic5\", \"Topic5\", \"Topic5\", \"Topic5\", \"Topic5\", \"Topic5\", \"Topic5\", \"Topic5\", \"Topic5\", \"Topic5\", \"Topic5\", \"Topic5\", \"Topic5\", \"Topic5\", \"Topic5\", \"Topic5\", \"Topic5\", \"Topic5\", \"Topic5\", \"Topic5\", \"Topic5\", \"Topic5\", \"Topic5\", \"Topic5\", \"Topic5\"], \"logprob\": [30.0, 29.0, 28.0, 27.0, 26.0, 25.0, 24.0, 23.0, 22.0, 21.0, 20.0, 19.0, 18.0, 17.0, 16.0, 15.0, 14.0, 13.0, 12.0, 11.0, 10.0, 9.0, 8.0, 7.0, 6.0, 5.0, 4.0, 3.0, 2.0, 1.0, -6.492, -7.7073, -8.399, -7.7625, -8.1376, -7.7643, -8.4458, -8.3214, -7.8342, -8.3018, -7.2979, -8.8058, -8.1039, -8.3118, -8.6471, -8.7269, -8.5659, -8.1059, -8.8082, -8.8642, -8.9993, -8.7113, -7.7146, -8.8112, -8.939, -6.8464, -8.1434, -9.2639, -9.2124, -9.1137, -4.7951, -7.3139, -8.2613, -8.2162, -4.5891, -6.9182, -7.2254, -7.6713, -6.4125, -6.555, -7.2166, -7.4067, -5.4634, -5.2092, -6.4851, -7.7393, -5.2299, -4.6926, -6.0374, -6.9922, -7.5001, -4.8685, -6.4333, -6.1491, -5.2309, -6.1883, -6.6884, -4.6695, -5.991, -6.7518, -5.6335, -5.3122, -4.9228, -4.4699, -5.4792, -5.7421, -6.3478, -5.8465, -5.5801, -5.1677, -5.8627, -5.2468, -5.4057, -4.5382, -5.2219, -5.4029, -4.9295, -5.1872, -4.8157, -5.1826, -5.366, -4.8602, -5.0021, -4.9187, -5.0673, -5.1083, -5.3209, -5.2285, -5.1983, -5.2587, -5.29, -5.2485, -5.8783, -4.1762, -6.4205, -5.9149, -7.2326, -6.2736, -6.3518, -6.3787, -6.1977, -6.6255, -5.5917, -6.845, -5.7603, -7.2891, -7.3579, -6.9415, -7.0128, -7.4678, -7.2689, -6.3303, -7.3606, -7.8684, -5.9532, -7.2765, -7.1288, -6.9793, -7.7435, -4.7743, -7.5271, -7.8154, -6.9087, -7.1329, -6.9579, -6.4046, -5.951, -6.8621, -4.9166, -6.9663, -5.5269, -5.6648, -4.2159, -4.6999, -3.9532, -5.0961, -5.3345, -4.4644, -4.0349, -5.8411, -4.704, -5.9208, -4.4563, -4.5056, -4.7265, -4.6605, -5.2749, -4.6933, -5.4392, -4.7454, -4.6086, -5.1367, -5.1597, -5.1759, -4.7955, -4.9779, -4.7631, -4.8344, -4.9967, -5.1072, -5.2548, -5.2251, -5.2603, -5.2866, -5.0705, -5.8763, -5.4662, -4.4956, -5.0286, -5.5386, -6.1318, -5.8476, -6.5478, -6.2128, -7.1478, -4.8148, -6.2149, -7.1267, -6.3714, -7.075, -7.8373, -4.8112, -6.8393, -7.3022, -5.6249, -7.9236, -8.1828, -5.8078, -7.6478, -7.9394, -6.0266, -7.4997, -7.6299, -4.7606, -5.6816, -4.4605, -7.1907, -4.6247, -7.0001, -4.4867, -5.6671, -5.7651, -5.404, -6.17, -6.0261, -5.6637, -5.2563, -5.7436, -5.4152, -5.8004, -5.3784, -4.4802, -5.219, -4.591, -4.6771, -5.0763, -5.0312, -4.9437, -5.0832, -5.1951, -5.2129, -5.1409, -5.2372, -5.3492, -5.2279, -5.4197, -5.4584, -4.0366, -4.9334, -7.333, -7.2311, -5.6898, -7.007, -6.6254, -6.2897, -7.4718, -7.2964, -7.5768, -7.2613, -7.5294, -7.5083, -7.9335, -8.1273, -7.6465, -7.7394, -8.0446, -7.5916, -7.9523, -7.3499, -7.4645, -6.9911, -7.9004, -7.9355, -6.6127, -8.1935, -7.9368, -7.8831, -5.2698, -6.1846, -6.2489, -5.2673, -4.6029, -7.7727, -6.0274, -6.4381, -7.4897, -6.8086, -5.1951, -4.0096, -6.8286, -5.7023, -6.5894, -6.795, -6.6084, -6.7326, -4.4435, -5.2432, -4.732, -6.8048, -6.545, -5.7165, -5.3818, -4.708, -5.6664, -5.3491, -5.8074, -5.2827, -4.9271, -5.6048, -5.5875, -4.7255, -4.9506, -5.0602, -5.6122, -5.1411, -5.0657, -5.0142, -5.2215, -5.0835, -5.2939, -5.2187, -5.4515, -5.2049, -5.2193, -5.3088, -5.3189, -5.243, -11.355, -11.3592, -11.3549, -11.3603, -11.3608, -11.3599, -11.3753, -11.3632, -11.3618, -11.3711, -11.3612, -11.378, -11.3793, -11.3728, -11.3752, -11.3716, -11.3756, -11.3669, -11.3735, -11.3746, -11.3762, -11.3766, -11.374, -11.376, -11.3749, -11.3785, -11.3755, -11.3783, -11.3821, -11.3817, -11.3765, -11.3728, -5.3565, -5.1647, -5.3076, -5.1352, -5.8505, -5.7943, -5.4067, -6.0549, -5.7805, -5.1749, -5.5039, -5.5992, -6.0757, -6.171, -5.7756, -5.5803, -5.3885, -7.0068, -5.7409, -5.8397, -6.0613, -5.9839, -5.4489, -6.5337, -7.0941, -6.1303, -6.4428, -6.7333, -5.8885, -6.0013, -5.6572, -6.0225, -5.7311, -5.789, -5.8662, -5.6409, -5.6885, -5.9459, -5.9045, -6.0029, -6.0067], \"loglift\": [30.0, 29.0, 28.0, 27.0, 26.0, 25.0, 24.0, 23.0, 22.0, 21.0, 20.0, 19.0, 18.0, 17.0, 16.0, 15.0, 14.0, 13.0, 12.0, 11.0, 10.0, 9.0, 8.0, 7.0, 6.0, 5.0, 4.0, 3.0, 2.0, 1.0, 0.8128, 0.8096, 0.8091, 0.8085, 0.8085, 0.8084, 0.8082, 0.8082, 0.8079, 0.8075, 0.8074, 0.8073, 0.8072, 0.8064, 0.8063, 0.8055, 0.8053, 0.8053, 0.8052, 0.8046, 0.8044, 0.8043, 0.804, 0.8038, 0.8036, 0.8036, 0.8034, 0.8033, 0.8017, 0.8009, 0.7875, 0.7923, 0.8003, 0.7964, 0.7441, 0.7786, 0.7821, 0.7904, 0.7634, 0.7658, 0.7788, 0.7806, 0.7362, 0.7207, 0.7515, 0.7873, 0.7067, 0.6715, 0.7263, 0.759, 0.7776, 0.659, 0.7312, 0.707, 0.6492, 0.7024, 0.7287, 0.5898, 0.6796, 0.7299, 0.6088, 0.559, 0.5144, 0.4596, 0.5609, 0.5945, 0.666, 0.5901, 0.5335, 0.4502, 0.578, 0.4591, 0.4893, 0.2504, 0.3936, 0.4198, 0.2356, 0.327, 0.1765, 0.3058, 0.3747, 0.0574, 0.1285, 0.0323, 0.1181, 0.1349, 0.2535, 0.1257, 0.0728, -0.0285, 0.06, -0.2219, 1.4894, 1.4894, 1.4891, 1.489, 1.4889, 1.4883, 1.4876, 1.4875, 1.4873, 1.4871, 1.4866, 1.4864, 1.486, 1.4855, 1.4853, 1.4853, 1.4851, 1.4851, 1.485, 1.4847, 1.4847, 1.4846, 1.4846, 1.4838, 1.4837, 1.4836, 1.4834, 1.4833, 1.4832, 1.4825, 1.4807, 1.4803, 1.4784, 1.4721, 1.4657, 1.4713, 1.4037, 1.4731, 1.4032, 1.3904, 1.2924, 1.3195, 1.247, 1.333, 1.3232, 1.196, 0.9917, 1.2916, 1.0343, 1.2788, 0.9562, 0.9544, 0.9733, 0.9238, 1.101, 0.7653, 1.0724, 0.7396, 0.6597, 0.8716, 0.8546, 0.8589, 0.4348, 0.5464, 0.0255, 0.0832, 0.2744, 0.247, 0.256, 0.0182, -0.1297, 1.5879, 1.5865, 1.5864, 1.5855, 1.5851, 1.5836, 1.5834, 1.5834, 1.583, 1.5829, 1.582, 1.5812, 1.581, 1.581, 1.5804, 1.5795, 1.5791, 1.5791, 1.5789, 1.5789, 1.5777, 1.5777, 1.5775, 1.5769, 1.5768, 1.5764, 1.5761, 1.576, 1.5759, 1.5752, 1.5595, 1.5674, 1.555, 1.5732, 1.5348, 1.5669, 1.5016, 1.537, 1.5292, 1.4856, 1.5211, 1.4962, 1.4578, 1.4063, 1.4559, 1.3027, 1.4112, 1.2111, 0.7481, 0.9957, 0.36, 0.315, 0.6586, 0.3189, -0.0261, 0.0474, -0.0097, 0.0304, -0.2114, -0.0721, 0.1751, -0.4393, 0.321, 0.4036, 1.8093, 1.8089, 1.8084, 1.8073, 1.8071, 1.806, 1.8059, 1.8047, 1.8047, 1.8037, 1.8034, 1.8031, 1.8026, 1.8019, 1.8019, 1.8017, 1.8015, 1.8015, 1.8013, 1.8007, 1.8004, 1.8002, 1.8, 1.8, 1.7994, 1.7994, 1.7994, 1.7994, 1.7986, 1.7985, 1.7979, 1.7911, 1.7884, 1.762, 1.7469, 1.7975, 1.7543, 1.7662, 1.7886, 1.759, 1.6334, 1.5299, 1.7418, 1.6495, 1.7171, 1.7307, 1.7102, 1.7074, 1.3793, 1.4023, 1.2491, 1.6886, 1.6276, 1.3862, 1.2352, 0.8763, 1.2438, 1.0988, 1.29, 1.0158, 0.7854, 1.1346, 1.0683, 0.5028, 0.5601, 0.6396, 0.9786, 0.3822, 0.2844, 0.1509, 0.4357, -0.0914, 0.1946, -0.0333, 0.5568, -0.2874, -0.2683, -0.0785, -0.0595, -0.4543, 1.8506, 1.8432, 1.8419, 1.8407, 1.8405, 1.8397, 1.8386, 1.838, 1.8353, 1.8315, 1.8312, 1.8294, 1.8283, 1.8274, 1.8269, 1.8259, 1.8255, 1.8236, 1.8232, 1.8211, 1.821, 1.8207, 1.8202, 1.8199, 1.8197, 1.819, 1.8188, 1.8185, 1.818, 1.8178, 1.8177, 1.8173, 0.2262, 0.0946, 0.0255, -0.1086, 0.0661, -0.0818, -0.2213, -0.0405, -0.1604, -0.3862, -0.2756, -0.3309, -0.155, -0.1309, -0.2906, -0.38, -0.459, 0.1691, -0.3285, -0.3122, -0.2386, -0.2781, -0.4979, -0.0646, 0.1456, -0.2683, -0.1435, -0.0295, -0.3801, -0.3357, -0.5266, -0.3621, -0.566, -0.5457, -0.5161, -0.7233, -0.6963, -0.4859, -0.6742, -0.4786, -0.548]}, \"token.table\": {\"Topic\": [1, 2, 3, 4, 1, 2, 3, 4, 1, 2, 3, 4, 1, 2, 3, 4, 1, 1, 2, 3, 4, 1, 2, 3, 4, 1, 2, 3, 4, 1, 2, 3, 4, 1, 2, 3, 4, 1, 2, 3, 4, 1, 2, 3, 4, 1, 2, 3, 4, 1, 2, 3, 4, 1, 2, 3, 4, 1, 2, 3, 4, 1, 2, 3, 4, 1, 2, 3, 4, 1, 2, 3, 4, 1, 2, 3, 4, 1, 2, 3, 4, 1, 2, 3, 4, 1, 1, 2, 3, 4, 1, 2, 3, 4, 1, 2, 3, 4, 1, 2, 3, 4, 1, 2, 3, 4, 1, 2, 3, 4, 1, 2, 3, 4, 1, 2, 3, 4, 1, 2, 3, 4, 1, 2, 3, 4, 1, 2, 3, 4, 1, 2, 3, 4, 1, 2, 3, 4, 1, 2, 3, 4, 1, 2, 3, 4, 1, 2, 3, 4, 1, 2, 3, 4, 1, 2, 3, 4, 1, 2, 3, 4, 1, 2, 3, 4, 1, 2, 3, 4, 1, 2, 3, 4, 1, 2, 3, 4, 1, 2, 3, 4, 1, 2, 3, 4, 1, 1, 2, 3, 4, 1, 2, 3, 4, 1, 2, 3, 4, 1, 1, 2, 3, 4, 1, 2, 3, 4, 1, 2, 3, 4, 1, 2, 3, 4, 1, 2, 3, 4, 1, 1, 2, 3, 4, 1, 1, 1, 2, 3, 4, 1, 2, 3, 4, 1, 1, 2, 3, 4, 1, 2, 3, 4, 1, 2, 3, 4, 1, 2, 3, 4, 1, 2, 3, 4, 1, 2, 3, 4, 1, 2, 3, 4, 1, 2, 3, 4, 1, 2, 3, 4, 1, 2, 3, 4, 1, 1, 2, 3, 4, 1, 2, 3, 4, 1, 1, 2, 3, 4, 1, 2, 3, 4, 1, 2, 3, 4, 1, 2, 3, 4, 1, 2, 3, 4, 1, 2, 3, 4, 1, 2, 3, 4, 1, 2, 3, 4, 1, 2, 3, 4, 1, 2, 3, 4, 1, 2, 3, 4, 1, 2, 3, 4, 1, 2, 3, 4, 1, 2, 3, 4, 1, 2, 3, 4, 1, 1, 2, 3, 4, 1, 2, 3, 4, 1, 2, 3, 4, 1, 2, 3, 4, 1, 2, 3, 4, 1, 2, 3, 4, 1, 2, 3, 4, 1, 2, 3, 4, 1, 1, 2, 3, 4, 1, 2, 3, 4, 1, 2, 3, 4, 1, 2, 3, 4, 1, 2, 3, 4, 1, 2, 3, 4, 1, 2, 3, 4, 1, 2, 3, 4, 1, 2, 3, 4, 1, 2, 3, 4, 1, 2, 3, 4, 1, 2, 3, 4, 1, 2, 3, 4, 1, 2, 3, 4, 1, 1, 2, 3, 4, 1, 2, 3, 4, 1, 2, 3, 4, 1, 2, 3, 4, 1, 1, 2, 3, 4, 1, 2, 3, 4, 1, 1, 2, 3, 4, 1, 2, 3, 4, 1, 2, 3, 4, 1, 2, 3, 4, 1, 2, 3, 4, 1, 2, 3, 4, 1, 2, 3, 4, 1, 2, 3, 4, 1, 2, 3, 4, 1, 2, 3, 4, 1, 1, 2, 3, 4, 1, 2, 3, 4, 1, 2, 3, 4, 1, 2, 3, 4, 1, 2, 3, 4, 1, 2, 3, 4, 1, 1, 2, 3, 4, 1, 2, 3, 4, 1, 2, 3, 4, 1, 2, 3, 4, 1, 2, 3, 4, 1, 2, 3, 4, 1, 1, 2, 3, 4, 1, 2, 3, 4, 1, 2, 3, 4, 1, 2, 3, 4, 1, 2, 3, 4, 1, 1, 1, 1, 2, 3, 4, 1, 2, 3, 4, 1, 2, 3, 4, 1, 2, 3, 4, 1, 2, 3, 4, 1, 1, 2, 3, 4, 1, 2, 3, 4, 1, 2, 3, 4, 1, 2, 3, 4, 1, 2, 3, 4, 1, 2, 3, 4, 1, 2, 3, 4, 1, 2, 3, 4, 1, 2, 3, 4, 1, 2, 3, 4, 1, 2, 3, 4, 1, 2, 3, 4, 1, 2, 3, 4, 1, 2, 3, 4, 1, 2, 3, 4, 1, 2, 3, 4, 1, 2, 3, 4, 1, 2, 3, 4, 1, 1, 2, 3, 4, 1, 2, 3, 4, 1, 1, 2, 3, 4, 1, 2, 3, 4, 1, 2, 3, 4, 1, 2, 3, 4, 1, 2, 3, 4, 1, 2, 3, 4, 1, 2, 3, 4, 1, 1, 2, 3, 4, 1, 2, 3, 4, 1, 2, 3, 4, 1, 2, 3, 4, 1, 2, 3, 4, 1, 2, 3, 4, 1, 2, 3, 4, 1, 2, 3, 4, 1, 2, 3, 4, 1, 2, 3, 4, 1, 2, 3, 4, 1, 2, 3, 4, 1, 2, 3, 4, 1, 2, 3, 4, 1, 2, 3, 4, 1, 1, 2, 3, 4, 1, 2, 3, 4, 1, 2, 3, 4, 1, 2, 3, 4, 1, 2, 3, 4, 1, 2, 3, 4, 1, 2, 3, 4, 1, 2, 3, 4, 1, 2, 3, 4, 1, 2, 3, 4, 1, 2, 3, 4, 1, 2, 3, 4, 1, 2, 3, 4, 1, 2, 3, 4, 1, 2, 3, 4, 1, 2, 3, 4, 1, 2, 3, 4, 1, 2, 3, 4, 1, 2, 3, 4, 1, 1, 2, 3, 4, 1, 2, 3, 4, 1, 2, 3, 4, 1, 2, 3, 4, 1, 2, 3, 4, 1, 2, 3, 4, 1, 2, 3, 4, 1, 2, 3, 4, 1, 2, 3, 4, 1, 2, 3, 4, 1, 2, 3, 4, 1, 2, 3, 4, 1, 2, 3, 4, 1, 2, 3, 4, 1, 2, 3, 4, 1, 2, 3, 4, 1, 1, 1, 2, 3, 4, 1, 2, 3, 4, 1, 2, 3, 4, 1, 2, 3, 4, 1, 2, 3, 4, 1, 2, 3, 4, 1, 2, 3, 4, 1, 2, 3, 4, 1, 2, 3, 4, 1, 2, 3, 4, 1, 2, 3, 4, 1, 2, 3, 4, 1, 2, 3, 4, 1, 2, 3, 4, 1, 2, 3, 4, 1, 2, 3, 4, 1, 2, 3, 4, 1, 2, 3, 4, 1, 2, 3, 4, 1, 2, 3, 4, 1, 2, 3, 4, 1, 2, 3, 4, 1, 2, 3, 4, 1, 2, 3, 4, 1, 2, 3, 4, 1, 2, 3, 4, 1, 2, 3, 4, 1, 2, 3, 4, 1, 2, 3, 4, 1, 2, 3, 4, 1, 2, 3, 4, 1, 1, 2, 3, 4, 1, 1, 2, 3, 4, 1, 2, 3, 4, 1, 2, 3, 4, 1, 2, 3, 4, 1, 2, 3, 4, 1, 2, 3, 4, 1, 2, 3, 4, 1, 2, 3, 4, 1, 2, 3, 4, 1, 1, 2, 3, 4, 1, 2, 3, 4, 1, 2, 3, 4, 1, 2, 3, 4, 1, 2, 3, 4, 1, 2, 3, 4, 1, 2, 3, 4, 1, 2, 3, 4, 1, 2, 3, 4, 1, 2, 3, 4, 1, 2, 3, 4, 1, 2, 3, 4, 1, 2, 3, 4, 1, 2, 3, 4, 1, 2, 3, 4, 1, 2, 3, 4, 1, 2, 3, 4], \"Freq\": [0.011510047936616506, 0.9725990506440947, 0.008632535952462378, 0.008632535952462378, 0.011554021622947564, 0.9686121460571042, 0.009628351352456304, 0.009628351352456304, 0.45336019479714434, 0.06780110338198472, 0.27001073213036875, 0.2088942445747769, 0.015794920112153676, 0.011846190084115258, 0.9595413968133358, 0.013820555098134468, 0.6159499181719692, 0.02033235827119816, 0.01270772391949885, 0.9556208387463134, 0.01016617913559908, 0.31254012279612015, 0.022980891382067655, 0.0402165599186184, 0.6239312010231369, 0.9580115023332565, 0.00840360966958997, 0.01680721933917994, 0.01680721933917994, 0.00876207784219243, 0.9725906404833597, 0.00876207784219243, 0.00876207784219243, 0.15550225207150759, 0.01060242627760279, 0.017670710462671317, 0.818153894421682, 0.9585493897768969, 0.01198186737221121, 0.017972801058316817, 0.01198186737221121, 0.012424324940221446, 0.9685057108163099, 0.011241055898295594, 0.007691248772518038, 0.013597956910312023, 0.013597956910312023, 0.027195913820624047, 0.9518569837218417, 0.020910023614394837, 0.9588739400315346, 0.011948584922511335, 0.0089614386918835, 0.3825652515626499, 0.42480362321304027, 0.09129648039016659, 0.10119609874572683, 0.5592173649764546, 0.2532653851298323, 0.13587595479593192, 0.051762268493688354, 0.03861051803452005, 0.5815285918006222, 0.08196267863468291, 0.2977074153714309, 0.3246431232141145, 0.2837122976620759, 0.11634446989106867, 0.27502150593527314, 0.018492684701880095, 0.018492684701880095, 0.018492684701880095, 0.9431269197958848, 0.019161696587292127, 0.019161696587292127, 0.019161696587292127, 0.9580848293646063, 0.054804113747019094, 0.893873993184139, 0.011338782154555674, 0.03968573754094486, 0.02373811558224445, 0.009130044454709404, 0.949524623289778, 0.01643408001847693, 0.6089676731130195, 0.08521655909886894, 0.3295040285156266, 0.039767727579472174, 0.5453859782327612, 0.11228529883106983, 0.015173689031225653, 0.8421397412330237, 0.030347378062451306, 0.016758774541226176, 0.008820407653276935, 0.9596603526765305, 0.014994693010570789, 0.07891488758427888, 0.7891488758427887, 0.01517593992005363, 0.11685473738441295, 0.0144540834353831, 0.9684235901706677, 0.00722704171769155, 0.00722704171769155, 0.010735656648258877, 0.9662090983432989, 0.010735656648258877, 0.010735656648258877, 0.010203930263302984, 0.015305895394954475, 0.02550982565825746, 0.9489655144871775, 0.07748076809569693, 0.02767170289132033, 0.044274724626112524, 0.8522884490526662, 0.141934807513019, 0.02661277640869106, 0.801044569901601, 0.030161146596516537, 0.015378546567709898, 0.015378546567709898, 0.9534698871980137, 0.015378546567709898, 0.06073647913728269, 0.013613348772149567, 0.12042577759978464, 0.8042347582316053, 0.41499124465310705, 0.056389468487895646, 0.07136792105499293, 0.45728334601902876, 0.038114343920533776, 0.010672016297749458, 0.9132196803359893, 0.038114343920533776, 0.9457422232942889, 0.019300861699883445, 0.019300861699883445, 0.019300861699883445, 0.03904824934444065, 0.012596209465948596, 0.9340089319000884, 0.014485640885840886, 0.2806927958770381, 0.20639176167429274, 0.09494021037017465, 0.4177369256287685, 0.9535888684796233, 0.015380465620639086, 0.015380465620639086, 0.015380465620639086, 0.010354851200491655, 0.9681785872459696, 0.010354851200491655, 0.010354851200491655, 0.05110882193393748, 0.04181630885503976, 0.037170052315590896, 0.8688499728769372, 0.08570300717473929, 0.016695391008066097, 0.8670473063522326, 0.030051703814518972, 0.12848846115131218, 0.052198437342720574, 0.02007632205489253, 0.7990376177847226, 0.7464922880641931, 0.016883508938447016, 0.2166716980434034, 0.019697427094854853, 0.24025482966118664, 0.6422049732530767, 0.08542393943508858, 0.03279669103311437, 0.015403117302029559, 0.015403117302029559, 0.9549932727258327, 0.01155233797652217, 0.9619061194276207, 0.010455501298126313, 0.010455501298126313, 0.010455501298126313, 0.6098918481983907, 0.3418811877299615, 0.5922024818283517, 0.0494077916577913, 0.01641167904716844, 0.022987602002686573, 0.011493801001343286, 0.9539854831114928, 0.022987602002686573, 0.3442354682622688, 0.0908896142813059, 0.09375227929803995, 0.47162406150693376, 0.6122661249956988, 0.03802629508994256, 0.027161639349958973, 0.024445475414963076, 0.9071987542886297, 0.01753556365661978, 0.021042676387943736, 0.021042676387943736, 0.9399062119948202, 0.8910428269950039, 0.011165950212969974, 0.07816165149078982, 0.018982115362048958, 0.5483698296823618, 0.22536679119054104, 0.1265049842997055, 0.0998150199049345, 0.5796118125426557, 0.16505501946578935, 0.06443177670176163, 0.190827730146494, 0.6121485248287681, 0.45907330362743254, 0.28898896095720167, 0.13103774260196777, 0.12066943636915213, 0.6105604418879718, 0.6108113834605574, 0.022418298065423715, 0.010190135484283507, 0.9537966813289362, 0.012907504946759109, 0.017543476384092222, 0.009868205466051874, 0.9605053320290491, 0.012061140014063403, 0.6125825495219164, 0.8356328199913376, 0.06318584650218054, 0.08056195429028018, 0.02211504627576319, 0.23291729168267586, 0.11371844240977705, 0.08083600123104633, 0.5713324154804461, 0.884660730008627, 0.03395286383828419, 0.03206659362504618, 0.04715675533095026, 0.3751389084811011, 0.46011210625067317, 0.043442888891839095, 0.12103899232128754, 0.6209882960732467, 0.030343746285397283, 0.27062387675464783, 0.0783292055274209, 0.06889232535080476, 0.2276062900830385, 0.06453205159442471, 0.638344077934039, 0.013073329797731613, 0.9674264050321394, 0.013073329797731613, 0.013073329797731613, 0.8983209865746014, 0.0507022035798573, 0.029341552997602605, 0.021360650582254694, 0.15897196717106585, 0.7991180135474113, 0.03122663640860222, 0.011355140512218989, 0.010453776279069422, 0.9617474176743869, 0.015680664418604134, 0.010453776279069422, 0.610763886411316, 0.4885301933730465, 0.22377557825563787, 0.20232058513429196, 0.08539087262295673, 0.9642060201494246, 0.020515021705306908, 0.020515021705306908, 0.020515021705306908, 0.6066684231322133, 0.8423351903081322, 0.05544032038121465, 0.07600689084521363, 0.026825961474781283, 0.01720687290869418, 0.01147124860579612, 0.9559373838163434, 0.015294998141061493, 0.01949672028601945, 0.012997813524012967, 0.9553392940149531, 0.012997813524012967, 0.2676995680695212, 0.6605919689675748, 0.04328475603114149, 0.027968611589352967, 0.9498463925171176, 0.01696154272351996, 0.01696154272351996, 0.01696154272351996, 0.9527975025373175, 0.010245134435885135, 0.02049026887177027, 0.010245134435885135, 0.020559332636506982, 0.013706221757671323, 0.9525824121581569, 0.013706221757671323, 0.8822865342368786, 0.031405082420000126, 0.05103325893250021, 0.03533071772250015, 0.6217937557564059, 0.12672427087426752, 0.12250012851179194, 0.12925875629175287, 0.06954619430007684, 0.8936685967559874, 0.01970475505168844, 0.01738654857501921, 0.7477290523892225, 0.08424445720744264, 0.13850359913765994, 0.029985315277225345, 0.9331219686031551, 0.04482245264032623, 0.008149536843695678, 0.016299073687391356, 0.022040155179789862, 0.011020077589894931, 0.9532367115259116, 0.013775096987368665, 0.02308520666208229, 0.009893659998035266, 0.02308520666208229, 0.943195586479362, 0.019332906522767233, 0.01140145769291401, 0.9582181617566427, 0.01140145769291401, 0.6107046774941801, 0.243922807802767, 0.08137805979555052, 0.4147110475814808, 0.259775676594108, 0.0629606781052534, 0.020986892701751133, 0.04722050857894005, 0.8657093239472342, 0.015736292221880253, 0.9677819716456354, 0.007868146110940126, 0.007868146110940126, 0.014662739252267801, 0.9677407906496749, 0.007331369626133901, 0.007331369626133901, 0.009308043589337909, 0.9736213594447453, 0.009308043589337909, 0.007446434871470327, 0.48536718684836677, 0.19303505416915692, 0.20587849868686647, 0.11578269386114279, 0.015159735514479081, 0.015159735514479081, 0.9550633374121822, 0.015159735514479081, 0.5204112485202358, 0.12916457069642873, 0.1995326782186962, 0.1507441236699241, 0.6138181458516914, 0.012476409043311699, 0.9669217008566567, 0.012476409043311699, 0.012476409043311699, 0.009544795741973259, 0.009544795741973259, 0.019089591483946518, 0.954479574197326, 0.952388429218397, 0.00952388429218397, 0.023809710730459923, 0.014285826438275953, 0.7280095673417103, 0.08094687659394104, 0.15933214316908648, 0.031763964233065475, 0.01629126972906924, 0.00814563486453462, 0.9530392791505506, 0.01629126972906924, 0.8304977156881543, 0.03276622247024585, 0.11468177864586046, 0.021424068538237667, 0.6495356487825066, 0.14629871334605984, 0.15510727462082263, 0.04902155839867974, 0.01390481557139224, 0.9733370899974568, 0.00695240778569612, 0.00695240778569612, 0.5018314904165477, 0.054196428903495936, 0.09947445811401152, 0.34473044967097094, 0.7698782201288559, 0.03946416251580938, 0.042516639174490764, 0.14804511794604733, 0.949299235446662, 0.008709167297675798, 0.026127501893027393, 0.017418334595351595, 0.02325437923661625, 0.02325437923661625, 0.02325437923661625, 0.9534295487012662, 0.01213124930319024, 0.02426249860638048, 0.02426249860638048, 0.9341061963456485, 0.024789444151533727, 0.024789444151533727, 0.024789444151533727, 0.9419988777582816, 0.6091642893788423, 0.016851882603900296, 0.011234588402600198, 0.9563443377713419, 0.014043235503250248, 0.2935517349818294, 0.5184502416211342, 0.06107769969783225, 0.12689010479859722, 0.8169242572909383, 0.041373522464585755, 0.11073501600815598, 0.03082733046380899, 0.10415676566871232, 0.8253099652563222, 0.027363218099407473, 0.04413422274097979, 0.6126456993770466, 0.9475325788253041, 0.009768377101291794, 0.01953675420258359, 0.01953675420258359, 0.9316675918826487, 0.013453683637294567, 0.04372447182120734, 0.013453683637294567, 0.6139580352233966, 0.8777356387613389, 0.02344607097225529, 0.07758518030819023, 0.021314609974777535, 0.9277256520691783, 0.017840877924407274, 0.04460219481101819, 0.013380658443305457, 0.018157928532112556, 0.018157928532112556, 0.018157928532112556, 0.944212283669853, 0.01436251751492807, 0.9694699322576448, 0.007181258757464035, 0.007181258757464035, 0.02026313024252895, 0.010807002796015439, 0.9523671213988606, 0.016885941868774124, 0.01915204214786882, 0.01915204214786882, 0.01915204214786882, 0.957602107393441, 0.015235317133216922, 0.015235317133216922, 0.022852975699825383, 0.9598249793926661, 0.01057999100025799, 0.01057999100025799, 0.02115998200051598, 0.9627791810234771, 0.019495115947854337, 0.019495115947854337, 0.019495115947854337, 0.9552606814448625, 0.038663946415099924, 0.21265170528304958, 0.023082953083641746, 0.7256703375669874, 0.6109623847023823, 0.01570718025284966, 0.010471453501899774, 0.9581379954238293, 0.014398248565112189, 0.01577366255403839, 0.01577366255403839, 0.01577366255403839, 0.9464197532423033, 0.012257786674803964, 0.010214822229003303, 0.020429644458006605, 0.9581503250805098, 0.012800249941279375, 0.012800249941279375, 0.02560049988255875, 0.9472184956546739, 0.010151067453196772, 0.010151067453196772, 0.020302134906393543, 0.9542003406004965, 0.7733832174009144, 0.07362505794793474, 0.11651965692629672, 0.03713263792156708, 0.6131859983949258, 0.050050977340334875, 0.015015293202100462, 0.9059226898600612, 0.02836222049285643, 0.28223815730839213, 0.030063523910432866, 0.13954859606186001, 0.5478740700692318, 0.3367587913587477, 0.37938648646744993, 0.2338839538297463, 0.05001649559421063, 0.00979616174767365, 0.0195923234953473, 0.0195923234953473, 0.950227689524344, 0.07804691783744563, 0.0275459710014514, 0.01836398066763427, 0.8768800768795363, 0.6759876955485045, 0.1304317631485055, 0.15896371133724108, 0.03480270603241373, 0.6109537596083847, 0.9398492742212231, 0.02292315302978593, 0.02292315302978593, 0.02292315302978593, 0.014310221297099386, 0.9715050236141917, 0.007950122942832993, 0.006360098354266394, 0.9580142941338099, 0.008403634159068508, 0.025210902477205525, 0.008403634159068508, 0.023579662504327144, 0.957334297675682, 0.009431865001730858, 0.014147797502596286, 0.9431561472837418, 0.011272782636857472, 0.015030376849143294, 0.030060753698286587, 0.6132598522502757, 0.6064191133754322, 0.6078523431032502, 0.011118920126473463, 0.9673460510031913, 0.011118920126473463, 0.005559460063236731, 0.02175977219977609, 0.014506514799850727, 0.9501767193902226, 0.02175977219977609, 0.2804261616327551, 0.20400232857239986, 0.08197072416957457, 0.43389014898782324, 0.009407405522185573, 0.010191355982367704, 0.021166662424917538, 0.9595553632629283, 0.011140060640709935, 0.014853414187613247, 0.02228012128141987, 0.9543318615541511, 0.6104626400538564, 0.9590722980132568, 0.011840398740904406, 0.011840398740904406, 0.011840398740904406, 0.012109872210693031, 0.012109872210693031, 0.024219744421386063, 0.9566799046447495, 0.37061119940404713, 0.4663707006307338, 0.05482414192367561, 0.10891729528836888, 0.020972337590225397, 0.9594844447528118, 0.010486168795112698, 0.015729253192669046, 0.9622362791838855, 0.025322007346944356, 0.025322007346944356, 0.025322007346944356, 0.9573006386010037, 0.008702733078190942, 0.017405466156381885, 0.017405466156381885, 0.41487474910516187, 0.339269702943578, 0.10059494937465639, 0.1452802847810827, 0.6329253441302901, 0.09931292905930278, 0.18835210683660872, 0.0793880780881574, 0.019301015662723426, 0.01286734377514895, 0.9521834393610223, 0.01608417971893619, 0.6696705319335129, 0.1912898583761619, 0.06802804098858611, 0.07114859332751208, 0.9574810576061888, 0.011331136776404602, 0.016996705164606902, 0.011331136776404602, 0.01343284029193626, 0.01343284029193626, 0.01343284029193626, 0.9537316607274744, 0.020533806557628625, 0.010266903278814313, 0.9496885532903239, 0.015400354918221469, 0.9567658409862808, 0.012842494509882963, 0.019263741764824444, 0.012842494509882963, 0.012372496757312413, 0.9650547470703682, 0.012372496757312413, 0.012372496757312413, 0.8250776387799483, 0.04076921297357727, 0.11261425961232882, 0.02166755374819491, 0.9535272992908599, 0.011351515467748331, 0.017027273201622495, 0.017027273201622495, 0.07987110566619084, 0.016895810814001908, 0.8048549878669999, 0.09830289928146564, 0.6105499206112236, 0.010401796872458548, 0.010401796872458548, 0.020803593744917095, 0.9569653122661863, 0.9513523789356111, 0.01698843533813591, 0.01698843533813591, 0.01698843533813591, 0.6089756390316675, 0.012524530726199856, 0.012524530726199856, 0.025049061452399712, 0.9518643351911891, 0.011964736797076644, 0.011964736797076644, 0.02392947359415329, 0.945214206969055, 0.011821709542179655, 0.9723356098442766, 0.008866282156634741, 0.008866282156634741, 0.014375504928113004, 0.014375504928113004, 0.014375504928113004, 0.9487833252554583, 0.08719161487200427, 0.8220257594617301, 0.02144820472787271, 0.06900726738532958, 0.943568379277689, 0.032167103839012126, 0.010722367946337375, 0.016083551919506063, 0.06882449389640241, 0.8329168342972781, 0.07725198294494148, 0.021068722621347676, 0.6099777861414074, 0.9627119252907294, 0.010116062262249346, 0.013488083016332461, 0.015174093393374019, 0.009412531730596717, 0.9694907682514619, 0.009412531730596717, 0.009412531730596717, 0.009974474299543085, 0.9675240070556793, 0.009974474299543085, 0.009974474299543085, 0.9306362823469213, 0.022455030941346626, 0.03493004813098364, 0.014970020627564418, 0.948686333302746, 0.018601692809857764, 0.018601692809857764, 0.018601692809857764, 0.9501296937730244, 0.017926975354208008, 0.017926975354208008, 0.017926975354208008, 0.9055633813618802, 0.04252210660307959, 0.017323821208662056, 0.03464764241732411, 0.9540786350424113, 0.015640633361351006, 0.015640633361351006, 0.015640633361351006, 0.27112026166954356, 0.5714615449810717, 0.10519567791114437, 0.05208964727484201, 0.0717277458594858, 0.0119546243099143, 0.0239092486198286, 0.8965968232435725, 0.5868979266126216, 0.12369031571620842, 0.10475812453515611, 0.18427332749557582, 0.11369707256328591, 0.012633008062587324, 0.8436042050683312, 0.029477018812703756, 0.47513559364544905, 0.1862895018801146, 0.09574112030424008, 0.2427605355510901, 0.011822165284251363, 0.8827216745574351, 0.010508591363778989, 0.0945773222740109, 0.03576397033501612, 0.029803308612513433, 0.01788198516750806, 0.9119812435429111, 0.6131292255987449, 0.932721024490836, 0.013616365321034104, 0.02382863931180968, 0.03063682197232673, 0.0586769948369529, 0.01257364175077562, 0.8759637086373683, 0.05448578092002769, 0.1676867353305082, 0.726425449557988, 0.07847088002845141, 0.027350846150995516, 0.012467272119115783, 0.9662135892314732, 0.0062336360595578915, 0.012467272119115783, 0.011233261563298317, 0.9688688098344798, 0.008424946172473738, 0.008424946172473738, 0.08858055238385734, 0.7645467630346852, 0.03226716177323806, 0.11468201445520278, 0.1508945032980336, 0.014017522164298205, 0.6588235417220156, 0.17645586724469503, 0.019787384439654686, 0.012176851962864423, 0.951316559598783, 0.016743171448938582, 0.46505260422578004, 0.43112966890427085, 0.03577327724813693, 0.06784587064301831, 0.9382332162994642, 0.040046539720099084, 0.01144186849145688, 0.01144186849145688, 0.24463147434811539, 0.5705402903914107, 0.08287624022033102, 0.10179653943461882, 0.17247362994281729, 0.6180891717950758, 0.05420599798202829, 0.15522626694853556, 0.009309972909086212, 0.0226099342077808, 0.019949941948041883, 0.9482872405969242, 0.015360700060170956, 0.03328151679703707, 0.03584163347373223, 0.9152417119185194, 0.8654342324405152, 0.036597965053454626, 0.07211951937004293, 0.0258338576847915, 0.00981877324617645, 0.9740223060207038, 0.00720043371386273, 0.008836895921558806, 0.010772516163383424, 0.9749127127862, 0.008977096802819521, 0.007181677442255617, 0.009279423082454132, 0.9650600005752298, 0.009279423082454132, 0.009279423082454132, 0.01939869702969273, 0.010964480929826326, 0.9564401057248502, 0.013494745759786247, 0.6090204432889175, 0.024136471933062783, 0.010727320859139015, 0.9107495409409023, 0.054172970338652024, 0.007685260287169083, 0.011527890430753624, 0.02113446578971498, 0.9587362208243431, 0.019162224573371883, 0.019162224573371883, 0.019162224573371883, 0.9581112286685942, 0.5919258902193694, 0.15726548128927162, 0.18821217707070254, 0.062456058758887836, 0.03730455447008992, 0.01657980198670663, 0.029014653476736606, 0.920179010262218, 0.24298860988289664, 0.3326155561511782, 0.2939763837599635, 0.13065617055998377, 0.02101375903754573, 0.014009172691697153, 0.9526237430354064, 0.014009172691697153, 0.04676929471389424, 0.5533863645502066, 0.02232856650856886, 0.37747346894891415, 0.915876631391091, 0.0414960286067161, 0.02371201634669491, 0.017784012260021183, 0.2920158572252053, 0.04821016510793484, 0.03030353235355904, 0.628109579691951, 0.009260118204548735, 0.9723124114776172, 0.009260118204548735, 0.006173412136365824, 0.7609722166759659, 0.07815774400966971, 0.13926288932632055, 0.021315748366273556, 0.021400232627824162, 0.021400232627824162, 0.021400232627824162, 0.9416102356242632, 0.14792731212522905, 0.269783143952525, 0.5310647182426805, 0.05100941797421692, 0.019811471123726953, 0.009905735561863476, 0.9509506139388937, 0.019811471123726953, 0.9380874926016249, 0.03705355221258826, 0.011447438894945969, 0.013254929246779542, 0.6210644118248593, 0.6132647912398131, 0.4713029371057948, 0.4723674270823183, 0.039120006637239885, 0.017564084612638316, 0.010672009515126226, 0.010672009515126226, 0.021344019030252452, 0.949808846846234, 0.8853500635666842, 0.044267503178334215, 0.04829182164909187, 0.020121592353788277, 0.9612172024651037, 0.02670047784625288, 0.02670047784625288, 0.02670047784625288, 0.9115820402873936, 0.044788712962097375, 0.028980931916651246, 0.015807781045446133, 0.886434865020558, 0.03955990306703317, 0.016116997545828328, 0.0556769006128615, 0.022707799588944266, 0.011353899794472133, 0.9491860228178702, 0.01816623967115541, 0.4840101112350639, 0.28120052524949474, 0.16205588667404813, 0.07263747583171092, 0.010651724399058739, 0.97196985141411, 0.007988793299294054, 0.007988793299294054, 0.015703187421120455, 0.9735976201094682, 0.007851593710560227, 0.007851593710560227, 0.550069515755242, 0.15536998815465825, 0.20048704240726092, 0.09411835820907181, 0.09467818764485994, 0.026247418356990876, 0.721804004817249, 0.1565471023434813, 0.7848527169683075, 0.03204669594154188, 0.05477071670008976, 0.12818678376616752, 0.4803043976904837, 0.1731282715115361, 0.1943896381883914, 0.15206939404112702, 0.540321672303418, 0.09425368870515004, 0.18275294167882777, 0.18275294167882777, 0.4520397434806747, 0.2387228391719396, 0.19131908265888734, 0.11788973433474759, 0.9568758728765664, 0.01196094841095708, 0.01794142261643562, 0.01196094841095708, 0.9495995644401489, 0.016957135079288373, 0.016957135079288373, 0.016957135079288373, 0.675693797593234, 0.11823789599841261, 0.12471201710495393, 0.08143762865596718, 0.15815572848779205, 0.5251876814798693, 0.04242077848652148, 0.2743517739073944, 0.016243884806425017, 0.016243884806425017, 0.016243884806425017, 0.9421453187726511, 0.02789786273908402, 0.04346876287252626, 0.02789786273908402, 0.9011658452229697, 0.07299575956758038, 0.7998769056064363, 0.11494734552595991, 0.012026121308068797, 0.012329749705255496, 0.9715842767741331, 0.009863799764204397, 0.007397849823153298, 0.011344733372418475, 0.9718654922371828, 0.007563155581612317, 0.007563155581612317, 0.5092401678862531, 0.07828044534206907, 0.26905773537615213, 0.14337505873952522, 0.957267475273606, 0.011261970297336542, 0.015015960396448723, 0.015015960396448723, 0.014905179335827228, 0.014905179335827228, 0.02235776900374084, 0.9539314774929426, 0.016512341889157317, 0.011008227926104877, 0.9549637725895981, 0.016512341889157317, 0.0421719181609792, 0.014884206409757364, 0.8980137867220276, 0.0421719181609792, 0.01392876012006373, 0.01392876012006373, 0.9471556881643337, 0.01392876012006373, 0.617142885922805, 0.03573976588929028, 0.011913255296430092, 0.9411471684179773, 0.011913255296430092, 0.6141256124484907, 0.8652812873849308, 0.044637526730175, 0.0630934272051512, 0.027040040230779088, 0.01963275749901431, 0.01963275749901431, 0.942372359952687, 0.01963275749901431, 0.4530680384021016, 0.1254737299334141, 0.1910493670705604, 0.2302244230226218, 0.9538889580193012, 0.014452863000292441, 0.014452863000292441, 0.014452863000292441, 0.0917417030796086, 0.014009816726442694, 0.8812626650504275, 0.01310595758280123, 0.028282313007066302, 0.9521712045712323, 0.009427437669022102, 0.009427437669022102, 0.29132514955894584, 0.5163135214316986, 0.03664759046999478, 0.15540433933478798, 0.9585038636366948, 0.013312553661620761, 0.013312553661620761, 0.013312553661620761, 0.6962346911679161, 0.06422981184044643, 0.1712794982411905, 0.06793537790816451, 0.6170258016054747, 0.8355215450539331, 0.01646347872027454, 0.13122360979983533, 0.01670558870145505, 0.26818541989391065, 0.07183538032872606, 0.17144710771789287, 0.4884805862353372, 0.7698789302556391, 0.0417489493429069, 0.060854400737118536, 0.12666206665051416, 0.7139214549799696, 0.04245501538188072, 0.15002508503044967, 0.09376567814403104, 0.9509738390899479, 0.010336672164021173, 0.020673344328042347, 0.010336672164021173, 0.027107608460660168, 0.012756521628545962, 0.9407934701052647, 0.017540217239250696, 0.02255125376837944, 0.01127562688418972, 0.9471526582719365, 0.02255125376837944, 0.03761492723557994, 0.01114516362535702, 0.9296923990818646, 0.02182594543299083, 0.06858953226182993, 0.017147383065457482, 0.022863177420609976, 0.8859481250486366, 0.4409697359498288, 0.15761504546844587, 0.2814325557805482, 0.12013341880216911, 0.2398478374143292, 0.127975347878317, 0.0915320368931009, 0.5407170327573922, 0.9613380484226092, 0.011309859393207167, 0.022619718786414333, 0.011309859393207167, 0.41846175902113103, 0.05296540286017669, 0.37917616219768874, 0.1490748093746695, 0.012098739485370201, 0.9719320719914061, 0.010754435098106845, 0.006721521936316778, 0.9182170016222574, 0.017130914209370473, 0.042827285523426184, 0.023983279893118662, 0.011523772761400387, 0.9679969119576325, 0.011523772761400387, 0.011523772761400387, 0.861361625837298, 0.021171889897682615, 0.052372569746899106, 0.06462997968766272], \"Term\": [\"aadhaar\", \"aadhaar\", \"aadhaar\", \"aadhaar\", \"aadhar\", \"aadhar\", \"aadhar\", \"aadhar\", \"account\", \"account\", \"account\", \"account\", \"acm\", \"acm\", \"acm\", \"acm\", \"adelita\", \"adp\", \"adp\", \"adp\", \"adp\", \"advise\", \"advise\", \"advise\", \"advise\", \"advisor\", \"advisor\", \"advisor\", \"advisor\", \"affirm\", \"affirm\", \"affirm\", \"affirm\", \"airtime\", \"airtime\", \"airtime\", \"airtime\", \"allowance\", \"allowance\", \"allowance\", \"allowance\", \"alternate\", \"alternate\", \"alternate\", \"alternate\", \"ama\", \"ama\", \"ama\", \"ama\", \"amit\", \"amit\", \"amit\", \"amit\", \"amp\", \"amp\", \"amp\", \"amp\", \"apologize\", \"apologize\", \"apologize\", \"apologize\", \"apology\", \"apology\", \"apology\", \"apology\", \"assistance\", \"assistance\", \"assistance\", \"assistance\", \"assistancebd\", \"assistancebd\", \"assistancebd\", \"assistancebd\", \"assistancede\", \"assistancede\", \"assistancede\", \"assistancede\", \"await\", \"await\", \"await\", \"await\", \"bab\", \"bab\", \"bab\", \"bab\", \"bac\", \"balance\", \"balance\", \"balance\", \"balance\", \"battery\", \"battery\", \"battery\", \"battery\", \"bcw\", \"bcw\", \"bcw\", \"bcw\", \"bear\", \"bear\", \"bear\", \"bear\", \"betterregardsshweta\", \"betterregardsshweta\", \"betterregardsshweta\", \"betterregardsshweta\", \"betterrgdsmohit\", \"betterrgdsmohit\", \"betterrgdsmohit\", \"betterrgdsmohit\", \"bonga\", \"bonga\", \"bonga\", \"bonga\", \"bonus\", \"bonus\", \"bonus\", \"bonus\", \"box\", \"box\", \"box\", \"box\", \"broadcaster\", \"broadcaster\", \"broadcaster\", \"broadcaster\", \"bundle\", \"bundle\", \"bundle\", \"bundle\", \"buy\", \"buy\", \"buy\", \"buy\", \"cable\", \"cable\", \"cable\", \"cable\", \"caffe\", \"caffe\", \"caffe\", \"caffe\", \"car\", \"car\", \"car\", \"car\", \"card\", \"card\", \"card\", \"card\", \"carphone\", \"carphone\", \"carphone\", \"carphone\", \"causedwe\", \"causedwe\", \"causedwe\", \"causedwe\", \"challenge\", \"challenge\", \"challenge\", \"challenge\", \"channel\", \"channel\", \"channel\", \"channel\", \"chargeable\", \"chargeable\", \"chargeable\", \"chargeable\", \"chat\", \"chat\", \"chat\", \"chat\", \"check\", \"check\", \"check\", \"check\", \"coax\", \"coax\", \"coax\", \"coax\", \"colour\", \"colour\", \"colour\", \"colour\", \"completamente\", \"concern\", \"concern\", \"concern\", \"concern\", \"concernstdc\", \"concernstdc\", \"concernstdc\", \"concernstdc\", \"confirm\", \"confirm\", \"confirm\", \"confirm\", \"conpletely\", \"cont\", \"cont\", \"cont\", \"cont\", \"contd\", \"contd\", \"contd\", \"contd\", \"contract\", \"contract\", \"contract\", \"contract\", \"customer\", \"customer\", \"customer\", \"customer\", \"data\", \"data\", \"data\", \"data\", \"daw\", \"day\", \"day\", \"day\", \"day\", \"daysany\", \"dazhon\", \"ddd\", \"ddd\", \"ddd\", \"ddd\", \"ddg\", \"ddg\", \"ddg\", \"ddg\", \"deadzones\", \"definitely\", \"definitely\", \"definitely\", \"definitely\", \"delay\", \"delay\", \"delay\", \"delay\", \"delivery\", \"delivery\", \"delivery\", \"delivery\", \"detail\", \"detail\", \"detail\", \"detail\", \"device\", \"device\", \"device\", \"device\", \"dial\", \"dial\", \"dial\", \"dial\", \"dinesh\", \"dinesh\", \"dinesh\", \"dinesh\", \"direct\", \"direct\", \"direct\", \"direct\", \"discuss\", \"discuss\", \"discuss\", \"discuss\", \"dnd\", \"dnd\", \"dnd\", \"dnd\", \"dolares\", \"dont\", \"dont\", \"dont\", \"dont\", \"dpd\", \"dpd\", \"dpd\", \"dpd\", \"dread\", \"drop\", \"drop\", \"drop\", \"drop\", \"dsl\", \"dsl\", \"dsl\", \"dsl\", \"dvr\", \"dvr\", \"dvr\", \"dvr\", \"elaborate\", \"elaborate\", \"elaborate\", \"elaborate\", \"emailtext\", \"emailtext\", \"emailtext\", \"emailtext\", \"emma\", \"emma\", \"emma\", \"emma\", \"ethernet\", \"ethernet\", \"ethernet\", \"ethernet\", \"exactly\", \"exactly\", \"exactly\", \"exactly\", \"experience\", \"experience\", \"experience\", \"experience\", \"face\", \"face\", \"face\", \"face\", \"feel\", \"feel\", \"feel\", \"feel\", \"felicia\", \"felicia\", \"felicia\", \"felicia\", \"fem\", \"fem\", \"fem\", \"fem\", \"fibre\", \"fibre\", \"fibre\", \"fibre\", \"fios\", \"fios\", \"fios\", \"fios\", \"fixedampprovide\", \"follow\", \"follow\", \"follow\", \"follow\", \"fund\", \"fund\", \"fund\", \"fund\", \"furtherregardsdarshan\", \"furtherregardsdarshan\", \"furtherregardsdarshan\", \"furtherregardsdarshan\", \"furtherregardspritam\", \"furtherregardspritam\", \"furtherregardspritam\", \"furtherregardspritam\", \"ganesh\", \"ganesh\", \"ganesh\", \"ganesh\", \"get\", \"get\", \"get\", \"get\", \"gigabit\", \"gigabit\", \"gigabit\", \"gigabit\", \"good\", \"good\", \"good\", \"good\", \"gpad\", \"hai\", \"hai\", \"hai\", \"hai\", \"hakikisha\", \"hakikisha\", \"hakikisha\", \"hakikisha\", \"handy\", \"handy\", \"handy\", \"handy\", \"happy\", \"happy\", \"happy\", \"happy\", \"hardwired\", \"hardwired\", \"hardwired\", \"hardwired\", \"hate\", \"hate\", \"hate\", \"hate\", \"hear\", \"hear\", \"hear\", \"hear\", \"heetali\", \"heetali\", \"heetali\", \"heetali\", \"hello\", \"hello\", \"hello\", \"hello\", \"hey\", \"hey\", \"hey\", \"hey\", \"hint\", \"hint\", \"hint\", \"hint\", \"hiplease\", \"hiplease\", \"hiplease\", \"hiplease\", \"hiwe\", \"hiwe\", \"hiwe\", \"hiwe\", \"hiyou\", \"hiyou\", \"hiyou\", \"hiyou\", \"homerun\", \"hsb\", \"hsb\", \"hsb\", \"hsb\", \"inconvenience\", \"inconvenience\", \"inconvenience\", \"inconvenience\", \"info\", \"info\", \"info\", \"info\", \"inform\", \"inform\", \"inform\", \"inform\", \"inquires\", \"instore\", \"instore\", \"instore\", \"instore\", \"insurance\", \"insurance\", \"insurance\", \"insurance\", \"inyour\", \"iphone\", \"iphone\", \"iphone\", \"iphone\", \"iphonex\", \"iphonex\", \"iphonex\", \"iphonex\", \"jambo\", \"jambo\", \"jambo\", \"jambo\", \"jio\", \"jio\", \"jio\", \"jio\", \"jra\", \"jra\", \"jra\", \"jra\", \"juja\", \"juja\", \"juja\", \"juja\", \"kcb\", \"kcb\", \"kcb\", \"kcb\", \"kcpe\", \"kcpe\", \"kcpe\", \"kcpe\", \"kenya\", \"kenya\", \"kenya\", \"kenya\", \"kindly\", \"kindly\", \"kindly\", \"kindly\", \"klaudia\", \"kmg\", \"kmg\", \"kmg\", \"kmg\", \"kplc\", \"kplc\", \"kplc\", \"kplc\", \"ksh\", \"ksh\", \"ksh\", \"ksh\", \"kshs\", \"kshs\", \"kshs\", \"kshs\", \"kwa\", \"kwa\", \"kwa\", \"kwa\", \"leave\", \"leave\", \"leave\", \"leave\", \"leobardo\", \"light\", \"light\", \"light\", \"light\", \"line\", \"line\", \"line\", \"line\", \"link\", \"link\", \"link\", \"link\", \"lipa\", \"lipa\", \"lipa\", \"lipa\", \"loan\", \"loan\", \"loan\", \"loan\", \"look\", \"look\", \"look\", \"look\", \"luisnunez\", \"luke\", \"luke\", \"luke\", \"luke\", \"mahindra\", \"mahindra\", \"mahindra\", \"mahindra\", \"manchester\", \"manchester\", \"manchester\", \"manchester\", \"mandatory\", \"mandatory\", \"mandatory\", \"mandatory\", \"mast\", \"mast\", \"mast\", \"mast\", \"metropca\", \"mimix\", \"mitigar\", \"mnp\", \"mnp\", \"mnp\", \"mnp\", \"mobileadp\", \"mobileadp\", \"mobileadp\", \"mobileadp\", \"money\", \"money\", \"money\", \"money\", \"mpesa\", \"mpesa\", \"mpesa\", \"mpesa\", \"mshwari\", \"mshwari\", \"mshwari\", \"mshwari\", \"murphey\", \"myo\", \"myo\", \"myo\", \"myo\", \"mysafaricom\", \"mysafaricom\", \"mysafaricom\", \"mysafaricom\", \"near\", \"near\", \"near\", \"near\", \"neha\", \"neha\", \"neha\", \"neha\", \"neil\", \"neil\", \"neil\", \"neil\", \"nero\", \"nero\", \"nero\", \"nero\", \"network\", \"network\", \"network\", \"network\", \"new\", \"new\", \"new\", \"new\", \"nhp\", \"nhp\", \"nhp\", \"nhp\", \"offer\", \"offer\", \"offer\", \"offer\", \"oguru\", \"oguru\", \"oguru\", \"oguru\", \"okoa\", \"okoa\", \"okoa\", \"okoa\", \"ont\", \"ont\", \"ont\", \"ont\", \"opriority\", \"opriority\", \"opriority\", \"opriority\", \"optimization\", \"optimization\", \"optimization\", \"optimization\", \"order\", \"order\", \"order\", \"order\", \"pac\", \"pac\", \"pac\", \"pac\", \"partner\", \"partner\", \"partner\", \"partner\", \"passwordtried\", \"paybill\", \"paybill\", \"paybill\", \"paybill\", \"payg\", \"payg\", \"payg\", \"payg\", \"perfectamente\", \"pesa\", \"pesa\", \"pesa\", \"pesa\", \"pesapal\", \"pesapal\", \"pesapal\", \"pesapal\", \"pincode\", \"pincode\", \"pincode\", \"pincode\", \"pliz\", \"pliz\", \"pliz\", \"pliz\", \"pls\", \"pls\", \"pls\", \"pls\", \"por\", \"por\", \"por\", \"por\", \"port\", \"port\", \"port\", \"port\", \"porter\", \"postcode\", \"postcode\", \"postcode\", \"postcode\", \"pradnya\", \"pradnya\", \"pradnya\", \"pradnya\", \"prashant\", \"prashant\", \"prashant\", \"prashant\", \"preorder\", \"preorder\", \"preorder\", \"preorder\", \"preorders\", \"preorders\", \"preorders\", \"preorders\", \"presale\", \"presale\", \"presale\", \"presale\", \"priority\", \"priority\", \"priority\", \"priority\", \"programme\", \"programme\", \"programme\", \"programme\", \"provide\", \"provide\", \"provide\", \"provide\", \"puk\", \"puk\", \"puk\", \"puk\", \"reach\", \"reach\", \"reach\", \"reach\", \"reboot\", \"reboot\", \"reboot\", \"reboot\", \"receive\", \"receive\", \"receive\", \"receive\", \"recharge\", \"recharge\", \"recharge\", \"recharge\", \"recipient\", \"recipient\", \"recipient\", \"recipient\", \"reclaimingmybills\", \"recycle\", \"recycle\", \"recycle\", \"recycle\", \"red\", \"red\", \"red\", \"red\", \"regard\", \"regard\", \"regard\", \"regard\", \"regardspradnya\", \"regardspradnya\", \"regardspradnya\", \"regardspradnya\", \"regardssneha\", \"regardssneha\", \"regardssneha\", \"regardssneha\", \"request\", \"request\", \"request\", \"request\", \"reset\", \"reset\", \"reset\", \"reset\", \"residential\", \"residential\", \"residential\", \"residential\", \"resolution\", \"resolution\", \"resolution\", \"resolution\", \"resolutionsup\", \"resolutionsup\", \"resolutionsup\", \"resolutionsup\", \"resolve\", \"resolve\", \"resolve\", \"resolve\", \"response\", \"response\", \"response\", \"response\", \"reversal\", \"reversal\", \"reversal\", \"reversal\", \"reverse\", \"reverse\", \"reverse\", \"reverse\", \"review\", \"review\", \"review\", \"review\", \"rgds\", \"rgds\", \"rgds\", \"rgds\", \"rgdspradnya\", \"rgdspradnya\", \"rgdspradnya\", \"rgdspradnya\", \"rgdssneha\", \"rgdssneha\", \"rgdssneha\", \"rgdssneha\", \"rmd\", \"rmd\", \"rmd\", \"rmd\", \"roamingstatus\", \"router\", \"router\", \"router\", \"router\", \"safaricom\", \"safaricom\", \"safaricom\", \"safaricom\", \"safcom\", \"safcom\", \"safcom\", \"safcom\", \"say\", \"say\", \"say\", \"say\", \"serial\", \"serial\", \"serial\", \"serial\", \"service\", \"service\", \"service\", \"service\", \"servicetxa\", \"servicetxa\", \"servicetxa\", \"servicetxa\", \"share\", \"share\", \"share\", \"share\", \"shoot\", \"shoot\", \"shoot\", \"shoot\", \"shop\", \"shop\", \"shop\", \"shop\", \"shruti\", \"shruti\", \"shruti\", \"shruti\", \"signal\", \"signal\", \"signal\", \"signal\", \"skiza\", \"skiza\", \"skiza\", \"skiza\", \"speed\", \"speed\", \"speed\", \"speed\", \"splitter\", \"splitter\", \"splitter\", \"splitter\", \"sprint\", \"sprint\", \"sprint\", \"sprint\", \"sprintripoff\", \"stockonly\", \"store\", \"store\", \"store\", \"store\", \"storo\", \"storo\", \"storo\", \"storo\", \"street\", \"street\", \"street\", \"street\", \"stuart\", \"stuart\", \"stuart\", \"stuart\", \"sup\", \"sup\", \"sup\", \"sup\", \"tariff\", \"tariff\", \"tariff\", \"tariff\", \"tdc\", \"tdc\", \"tdc\", \"tdc\", \"team\", \"team\", \"team\", \"team\", \"telecon\", \"telecon\", \"telecon\", \"telecon\", \"teleconyour\", \"teleconyour\", \"teleconyour\", \"teleconyour\", \"tell\", \"tell\", \"tell\", \"tell\", \"test\", \"test\", \"test\", \"test\", \"text\", \"text\", \"text\", \"text\", \"thank\", \"thank\", \"thank\", \"thank\", \"thanks\", \"thanks\", \"thanks\", \"thanks\", \"time\", \"time\", \"time\", \"time\", \"timescale\", \"timescale\", \"timescale\", \"timescale\", \"timescales\", \"timescales\", \"timescales\", \"timescales\", \"today\", \"today\", \"today\", \"today\", \"touch\", \"touch\", \"touch\", \"touch\", \"transact\", \"transact\", \"transact\", \"transact\", \"transaction\", \"transaction\", \"transaction\", \"transaction\", \"trouble\", \"trouble\", \"trouble\", \"trouble\", \"troubleplease\", \"troubleplease\", \"troubleplease\", \"troubleplease\", \"troublewe\", \"troublewe\", \"troublewe\", \"troublewe\", \"try\", \"try\", \"try\", \"try\", \"tugo\", \"tugo\", \"tugo\", \"tugo\", \"tunukiwa\", \"tunukiwa\", \"tunukiwa\", \"tunukiwa\", \"txa\", \"txa\", \"txa\", \"txa\", \"unit\", \"unit\", \"unit\", \"unit\", \"univision\", \"univision\", \"univision\", \"univision\", \"unpalatable\", \"unplug\", \"unplug\", \"unplug\", \"unplug\", \"unsatisfaction\", \"upgrade\", \"upgrade\", \"upgrade\", \"upgrade\", \"usacm\", \"usacm\", \"usacm\", \"usacm\", \"use\", \"use\", \"use\", \"use\", \"venue\", \"venue\", \"venue\", \"venue\", \"verizon\", \"verizon\", \"verizon\", \"verizon\", \"vicky\", \"vicky\", \"vicky\", \"vicky\", \"visit\", \"visit\", \"visit\", \"visit\", \"warehouse\", \"warehouse\", \"warehouse\", \"warehouse\", \"way\", \"way\", \"way\", \"way\", \"wcs\", \"wed\", \"wed\", \"wed\", \"wed\", \"welcome\", \"welcome\", \"welcome\", \"welcome\", \"weve\", \"weve\", \"weve\", \"weve\", \"whats\", \"whats\", \"whats\", \"whats\", \"whilst\", \"whilst\", \"whilst\", \"whilst\", \"wire\", \"wire\", \"wire\", \"wire\", \"wired\", \"wired\", \"wired\", \"wired\", \"wireless\", \"wireless\", \"wireless\", \"wireless\", \"withdraw\", \"withdraw\", \"withdraw\", \"withdraw\", \"work\", \"work\", \"work\", \"work\", \"wrong\", \"wrong\", \"wrong\", \"wrong\", \"yearly\", \"yearly\", \"yearly\", \"yearly\", \"yes\", \"yes\", \"yes\", \"yes\", \"yogita\", \"yogita\", \"yogita\", \"yogita\", \"youd\", \"youd\", \"youd\", \"youd\", \"yourgdsmohit\", \"yourgdsmohit\", \"yourgdsmohit\", \"yourgdsmohit\", \"youve\", \"youve\", \"youve\", \"youve\"]}, \"R\": 30, \"lambda.step\": 0.01, \"plot.opts\": {\"xlab\": \"PC1\", \"ylab\": \"PC2\"}, \"topic.order\": [4, 5, 2, 1, 3]};\n",
       "\n",
       "function LDAvis_load_lib(url, callback){\n",
       "  var s = document.createElement('script');\n",
       "  s.src = url;\n",
       "  s.async = true;\n",
       "  s.onreadystatechange = s.onload = callback;\n",
       "  s.onerror = function(){console.warn(\"failed to load library \" + url);};\n",
       "  document.getElementsByTagName(\"head\")[0].appendChild(s);\n",
       "}\n",
       "\n",
       "if(typeof(LDAvis) !== \"undefined\"){\n",
       "   // already loaded: just create the visualization\n",
       "   !function(LDAvis){\n",
       "       new LDAvis(\"#\" + \"ldavis_el1094017529154441127484893585\", ldavis_el1094017529154441127484893585_data);\n",
       "   }(LDAvis);\n",
       "}else if(typeof define === \"function\" && define.amd){\n",
       "   // require.js is available: use it to load d3/LDAvis\n",
       "   require.config({paths: {d3: \"https://d3js.org/d3.v5\"}});\n",
       "   require([\"d3\"], function(d3){\n",
       "      window.d3 = d3;\n",
       "      LDAvis_load_lib(\"https://cdn.jsdelivr.net/gh/bmabey/pyLDAvis@3.2.2/pyLDAvis/js/ldavis.v3.0.0.js\", function(){\n",
       "        new LDAvis(\"#\" + \"ldavis_el1094017529154441127484893585\", ldavis_el1094017529154441127484893585_data);\n",
       "      });\n",
       "    });\n",
       "}else{\n",
       "    // require.js not available: dynamically load d3 & LDAvis\n",
       "    LDAvis_load_lib(\"https://d3js.org/d3.v5.js\", function(){\n",
       "         LDAvis_load_lib(\"https://cdn.jsdelivr.net/gh/bmabey/pyLDAvis@3.2.2/pyLDAvis/js/ldavis.v3.0.0.js\", function(){\n",
       "                 new LDAvis(\"#\" + \"ldavis_el1094017529154441127484893585\", ldavis_el1094017529154441127484893585_data);\n",
       "            })\n",
       "         });\n",
       "}\n",
       "</script>"
      ],
      "text/plain": [
       "PreparedData(topic_coordinates=              x         y  topics  cluster       Freq\n",
       "topic                                                \n",
       "3     -0.055481  0.035300       1        1  42.687794\n",
       "4      0.145501  0.068393       2        1  21.968212\n",
       "1     -0.127440  0.038962       3        1  19.631350\n",
       "0      0.021310 -0.140233       4        1  15.712529\n",
       "2      0.016110 -0.002422       5        1   0.000115, topic_info=           Term         Freq        Total Category  logprob  loglift\n",
       "2609     direct  4260.000000  4260.000000  Default  30.0000  30.0000\n",
       "1892    concern  5788.000000  5788.000000  Default  29.0000  29.0000\n",
       "4227        hey  4586.000000  4586.000000  Default  28.0000  28.0000\n",
       "21128    sprint  3319.000000  3319.000000  Default  27.0000  27.0000\n",
       "2196   customer  7343.000000  7343.000000  Default  26.0000  26.0000\n",
       "...         ...          ...          ...      ...      ...      ...\n",
       "9913        try     0.003434  5991.279150   Topic5  -5.6885  -0.6963\n",
       "7937    resolve     0.002655  3752.583360   Topic5  -5.9459  -0.4859\n",
       "6267    network     0.002767  4721.907044   Topic5  -5.9045  -0.6742\n",
       "5381       link     0.002508  3518.839093   Topic5  -6.0029  -0.4786\n",
       "9069      store     0.002498  3757.668074   Topic5  -6.0067  -0.5480\n",
       "\n",
       "[410 rows x 6 columns], token_table=       Topic      Freq          Term\n",
       "term                                \n",
       "29164      1  0.011510       aadhaar\n",
       "29164      2  0.972599       aadhaar\n",
       "29164      3  0.008633       aadhaar\n",
       "29164      4  0.008633       aadhaar\n",
       "29171      1  0.011554        aadhar\n",
       "...      ...       ...           ...\n",
       "39668      4  0.011524  yourgdsmohit\n",
       "10893      1  0.861362         youve\n",
       "10893      2  0.021172         youve\n",
       "10893      3  0.052373         youve\n",
       "10893      4  0.064630         youve\n",
       "\n",
       "[1148 rows x 3 columns], R=30, lambda_step=0.01, plot_opts={'xlab': 'PC1', 'ylab': 'PC2'}, topic_order=[4, 5, 2, 1, 3])"
      ]
     },
     "execution_count": 27,
     "metadata": {},
     "output_type": "execute_result"
    }
   ],
   "source": [
    "#visualization\n",
    "pyLDAvis.enable_notebook()\n",
    "vis = pyLDAvis.gensim.prepare(lda_model_uni, bow_corpus_uni , dictionary_uni)\n",
    "vis"
   ]
  },
  {
   "cell_type": "code",
   "execution_count": 28,
   "metadata": {
    "scrolled": false
   },
   "outputs": [
    {
     "name": "stderr",
     "output_type": "stream",
     "text": [
      "C:\\Users\\mahil\\anaconda3\\lib\\site-packages\\ipykernel\\ipkernel.py:287: DeprecationWarning: `should_run_async` will not call `transform_cell` automatically in the future. Please pass the result to `transformed_cell` argument and any exception that happen during thetransform in `preprocessing_exc_tuple` in IPython 7.17 and above.\n",
      "  and should_run_async(code)\n"
     ]
    }
   ],
   "source": [
    "pickle.dump(df_dominant_topic_uni, open('df_dominant_topic_uni.pkl','wb'))\n",
    "pickle.dump(tweets_list_uni, open('tweets_list_uni.pkl','wb'))\n",
    "pickle.dump(tweets_uni, open('tweets_uni.pkl','wb'))\n",
    "pickle.dump(bow_corpus_uni, open('bow_corpus_uni.pkl','wb'))\n",
    "pickle.dump(dictionary_uni, open('dictionary_uni.pkl','wb'))\n",
    "pickle.dump(lda_model_uni, open('lda_model_uni.pkl','wb'))"
   ]
  },
  {
   "cell_type": "markdown",
   "metadata": {},
   "source": [
    "# Functionality Testing"
   ]
  },
  {
   "cell_type": "markdown",
   "metadata": {},
   "source": [
    "### Remove Twitter ID"
   ]
  },
  {
   "cell_type": "code",
   "execution_count": 32,
   "metadata": {},
   "outputs": [
    {
     "name": "stdout",
     "output_type": "stream",
     "text": [
      "<unittest.main.TestProgram object at 0x000001982EDBE820>\n"
     ]
    },
    {
     "name": "stderr",
     "output_type": "stream",
     "text": [
      "C:\\Users\\mahil\\anaconda3\\lib\\site-packages\\ipykernel\\ipkernel.py:287: DeprecationWarning: `should_run_async` will not call `transform_cell` automatically in the future. Please pass the result to `transformed_cell` argument and any exception that happen during thetransform in `preprocessing_exc_tuple` in IPython 7.17 and above.\n",
      "  and should_run_async(code)\n",
      "\n",
      "----------------------------------------------------------------------\n",
      "Ran 0 tests in 0.000s\n",
      "\n",
      "OK\n"
     ]
    }
   ],
   "source": [
    "import unittest\n",
    "from utils import removeTwitterUserID\n",
    "\n",
    "\n",
    "### Remove Twitter IDclass test_removeTwitterUserID(unittest.TestCase):\n",
    "\n",
    "def test_A(self):\n",
    "    sentA = \"@VirginTrains see attached error message. I've tried leaving a voicemail several times in the past \" \\\n",
    "            \"week https://t.co/NxVZjlYx1k\"\n",
    "    processedA = removeTwitterUserID(sentA)\n",
    "    trueValue = \"see attached error message. I've tried leaving a voicemail several times in the past week \" \\\n",
    "                \"https://t.co/NxVZjlYx1k\"\n",
    "    print(processedA)\n",
    "    self.assertEqual(processedA, trueValue)\n",
    "\n",
    "def test_B(self):\n",
    "    sentB = \"@lohith This is a sample sentence, showing off the stop words filtration @Oreo.\"\n",
    "    processedText = removeTwitterUserID(sentB)\n",
    "    true_value = \"This is a sample sentence, showing off the stop words filtration\"\n",
    "    self.assertEqual(processedText, true_value)\n",
    "\n",
    "\n",
    "\n",
    "if __name__ == '__main__':\n",
    "    print(unittest.main(argv=['first-arg-is-ignored'], exit=False))\n"
   ]
  },
  {
   "cell_type": "markdown",
   "metadata": {},
   "source": [
    "## Testing removal of stopwords"
   ]
  },
  {
   "cell_type": "code",
   "execution_count": 34,
   "metadata": {},
   "outputs": [
    {
     "name": "stderr",
     "output_type": "stream",
     "text": [
      "C:\\Users\\mahil\\anaconda3\\lib\\site-packages\\ipykernel\\ipkernel.py:287: DeprecationWarning: `should_run_async` will not call `transform_cell` automatically in the future. Please pass the result to `transformed_cell` argument and any exception that happen during thetransform in `preprocessing_exc_tuple` in IPython 7.17 and above.\n",
      "  and should_run_async(code)\n",
      ".."
     ]
    },
    {
     "name": "stdout",
     "output_type": "stream",
     "text": [
      "<unittest.main.TestProgram object at 0x0000019832497A90>\n"
     ]
    },
    {
     "name": "stderr",
     "output_type": "stream",
     "text": [
      "\n",
      "----------------------------------------------------------------------\n",
      "Ran 2 tests in 0.002s\n",
      "\n",
      "OK\n"
     ]
    }
   ],
   "source": [
    "import unittest\n",
    "from utils import removeStopwords\n",
    "\n",
    "\n",
    "class TestRemoveStopwords(unittest.TestCase):\n",
    "\n",
    "    def test_A(self):\n",
    "        sentA = \"NLTK is a leading platform for building Python programs to work with human language data.\"\n",
    "        processedText = removeStopwords(sentA)\n",
    "        true_value = ['NLTK', 'leading', 'platform', 'building', 'Python', 'programs', 'work', 'human', 'language',\n",
    "                      'data', '.']\n",
    "        true_value = \" \".join(true_value)\n",
    "        self.assertEqual(processedText, true_value)\n",
    "\n",
    "    def test_B(self):\n",
    "        sentB = \"This is a sample sentence, showing off the stop words filtration.\"\n",
    "        processedText = removeStopwords(sentB)\n",
    "        true_value = ['This', 'sample', 'sentence', ',', 'showing', 'stop',\n",
    "                      'words', 'filtration', '.']\n",
    "        true_value = \" \".join(true_value)\n",
    "        self.assertEqual(processedText, true_value)\n",
    "\n",
    "\n",
    "\n",
    "if __name__ == '__main__':\n",
    "    print(unittest.main(argv=['first-arg-is-ignored'], exit=False))\n"
   ]
  },
  {
   "cell_type": "markdown",
   "metadata": {},
   "source": [
    "## Testing Removal of Punctuation"
   ]
  },
  {
   "cell_type": "code",
   "execution_count": 35,
   "metadata": {
    "scrolled": true
   },
   "outputs": [
    {
     "name": "stderr",
     "output_type": "stream",
     "text": [
      "C:\\Users\\mahil\\anaconda3\\lib\\site-packages\\ipykernel\\ipkernel.py:287: DeprecationWarning: `should_run_async` will not call `transform_cell` automatically in the future. Please pass the result to `transformed_cell` argument and any exception that happen during thetransform in `preprocessing_exc_tuple` in IPython 7.17 and above.\n",
      "  and should_run_async(code)\n",
      "...."
     ]
    },
    {
     "name": "stdout",
     "output_type": "stream",
     "text": [
      "<unittest.main.TestProgram object at 0x000001982ABC0C40>\n"
     ]
    },
    {
     "name": "stderr",
     "output_type": "stream",
     "text": [
      "\n",
      "----------------------------------------------------------------------\n",
      "Ran 4 tests in 0.004s\n",
      "\n",
      "OK\n"
     ]
    }
   ],
   "source": [
    "import unittest\n",
    "from utils import removePunctuation\n",
    "\n",
    "\n",
    "class test_removePunctuation(unittest.TestCase):\n",
    "\n",
    "    def test_A(self):\n",
    "        sent = \"Hello!!!, he said ---and went.\"\n",
    "        processed = removePunctuation(sent)\n",
    "        trueValue = \"Hello he said and went\"\n",
    "        self.assertEqual(processed, trueValue)\n",
    "\n",
    "    def test_B(self):\n",
    "        sent = \"Welcome???@@##$ to#$% Geeks%$^for$%^&Geeks\"\n",
    "        processed = removePunctuation(sent)\n",
    "        trueValue = \"Welcome to GeeksforGeeks\"\n",
    "        self.assertEqual(processed, trueValue)\n",
    "\n",
    "\n",
    "\n",
    "if __name__ == \"__main__\":\n",
    "    print(unittest.main(argv=['first-arg-is-ignored'], exit=False))"
   ]
  },
  {
   "cell_type": "markdown",
   "metadata": {},
   "source": [
    "# Stemming"
   ]
  },
  {
   "cell_type": "code",
   "execution_count": 36,
   "metadata": {},
   "outputs": [
    {
     "name": "stderr",
     "output_type": "stream",
     "text": [
      "C:\\Users\\mahil\\anaconda3\\lib\\site-packages\\ipykernel\\ipkernel.py:287: DeprecationWarning: `should_run_async` will not call `transform_cell` automatically in the future. Please pass the result to `transformed_cell` argument and any exception that happen during thetransform in `preprocessing_exc_tuple` in IPython 7.17 and above.\n",
      "  and should_run_async(code)\n",
      "......"
     ]
    },
    {
     "name": "stdout",
     "output_type": "stream",
     "text": [
      "<unittest.main.TestProgram object at 0x000001983F869E20>\n"
     ]
    },
    {
     "name": "stderr",
     "output_type": "stream",
     "text": [
      "\n",
      "----------------------------------------------------------------------\n",
      "Ran 6 tests in 0.006s\n",
      "\n",
      "OK\n"
     ]
    }
   ],
   "source": [
    "import unittest\n",
    "from utils import stemSentenceX, removePunctuation, toLowerCasing\n",
    "\n",
    "class test_Stemming(unittest.TestCase):\n",
    "\n",
    "    def test_A(self):\n",
    "        sent = \"Referenced from Harsha. The tokenising of the data is done by Harsha. For futher text data \" \\\n",
    "                \"proessing. We are running the code submitted by my team mate. \"\n",
    "        processed = stemSentenceX(removePunctuation(toLowerCasing(sent)))\n",
    "        trueValue = 'referenc from harsha the tokenis of the data is done by harsha for futher text data proess we ' \\\n",
    "                    'are run the code submit by my team mate'\n",
    "        self.assertEqual(processed, trueValue)\n",
    "\n",
    "    def test_B(self):\n",
    "        sent = 'I just updated my phone and suddenly everything takes ages to load wtf this update sux I hate it fix ' \\\n",
    "               'it bye '\n",
    "        processed = stemSentenceX(removePunctuation(toLowerCasing(sent)))\n",
    "        trueValue = 'i just updat my phone and suddenli everyth take age to load wtf thi updat sux i hate it fix it bye'\n",
    "        self.assertEqual(processed, trueValue)\n",
    "\n",
    "\n",
    "if __name__ == '__main__':\n",
    "    print(unittest.main(argv=['first-arg-is-ignored'], exit=False))\n"
   ]
  },
  {
   "cell_type": "markdown",
   "metadata": {},
   "source": [
    "## Lemming"
   ]
  },
  {
   "cell_type": "code",
   "execution_count": 37,
   "metadata": {},
   "outputs": [
    {
     "name": "stderr",
     "output_type": "stream",
     "text": [
      "C:\\Users\\mahil\\anaconda3\\lib\\site-packages\\ipykernel\\ipkernel.py:287: DeprecationWarning: `should_run_async` will not call `transform_cell` automatically in the future. Please pass the result to `transformed_cell` argument and any exception that happen during thetransform in `preprocessing_exc_tuple` in IPython 7.17 and above.\n",
      "  and should_run_async(code)\n",
      "........"
     ]
    },
    {
     "name": "stdout",
     "output_type": "stream",
     "text": [
      "<unittest.main.TestProgram object at 0x000001983F85D910>\n"
     ]
    },
    {
     "name": "stderr",
     "output_type": "stream",
     "text": [
      "\n",
      "----------------------------------------------------------------------\n",
      "Ran 8 tests in 0.035s\n",
      "\n",
      "OK\n"
     ]
    }
   ],
   "source": [
    "import unittest\n",
    "from utils import wordnet_pos_lemmatizer\n",
    "\n",
    "class test_lemming(unittest.TestCase):\n",
    "\n",
    "    def test_A(self):\n",
    "        text = \"Referenced from Harsha. The tokenising of the data is done by Harsha. For futher text data proessing. \" \\\n",
    "               \"We are running the code submitted by my team mate. \"\n",
    "        processedText = wordnet_pos_lemmatizer(text)\n",
    "        value = 'Referenced from Harsha The tokenising of the data be do by Harsha For futher text data proessing ' \\\n",
    "                'We be run the code submit by my team mate'\n",
    "        self.assertEqual(processedText, value)\n",
    "\n",
    "    def test_B(self):\n",
    "        text = \"The Daily Express says Britain is set to revel in a summer of sport and live performances before \" \\\n",
    "               \"packed crowds after a series of stunning test successes.\"\n",
    "        processedText = wordnet_pos_lemmatizer(text)\n",
    "        value = 'The Daily Express say Britain be set to revel in a summer of sport and live performance before ' \\\n",
    "                'packed crowd after a series of stun test success'\n",
    "        self.assertEqual(processedText, value)\n",
    "\n",
    "\n",
    "\n",
    "if __name__ == '__main__':\n",
    "    print(unittest.main(argv=['first-arg-is-ignored'], exit=False))\n"
   ]
  },
  {
   "cell_type": "markdown",
   "metadata": {},
   "source": [
    "## Cleaning Text"
   ]
  },
  {
   "cell_type": "code",
   "execution_count": 38,
   "metadata": {},
   "outputs": [
    {
     "name": "stderr",
     "output_type": "stream",
     "text": [
      "C:\\Users\\mahil\\anaconda3\\lib\\site-packages\\ipykernel\\ipkernel.py:287: DeprecationWarning: `should_run_async` will not call `transform_cell` automatically in the future. Please pass the result to `transformed_cell` argument and any exception that happen during thetransform in `preprocessing_exc_tuple` in IPython 7.17 and above.\n",
      "  and should_run_async(code)\n",
      "........."
     ]
    },
    {
     "name": "stdout",
     "output_type": "stream",
     "text": [
      "<unittest.main.TestProgram object at 0x0000019832497B80>\n"
     ]
    },
    {
     "name": "stderr",
     "output_type": "stream",
     "text": [
      "\n",
      "----------------------------------------------------------------------\n",
      "Ran 9 tests in 0.038s\n",
      "\n",
      "OK\n"
     ]
    }
   ],
   "source": [
    "import unittest\n",
    "from utils import cleaningText\n",
    "\n",
    "\n",
    "class test_cleaningText(unittest.TestCase):\n",
    "\n",
    "    def test_A(self):\n",
    "        sentence = \"I'm Naman Jain. My email id is abcdef@gmail.com which I created on 20/10/2010. \" \\\n",
    "                   \"i hae an other email as well which i've made on 22-10-2015 on www.gmail.com\"\n",
    "        processedText = cleaningText(sentence)\n",
    "        value = \"Im Naman Jain My email id is  which I created on  i hae an other email as well which ive made on  on \"\n",
    "        self.assertEqual(processedText, value)\n",
    "\n",
    "\n",
    "def run_test_cleaningText():\n",
    "    print(unittest.main())\n",
    "\n",
    "\n",
    "if __name__ == '__main__':\n",
    "    print(unittest.main(argv=['first-arg-is-ignored'], exit=False))"
   ]
  },
  {
   "cell_type": "markdown",
   "metadata": {},
   "source": [
    "## Testing chat word conversion function"
   ]
  },
  {
   "cell_type": "code",
   "execution_count": 39,
   "metadata": {},
   "outputs": [
    {
     "name": "stderr",
     "output_type": "stream",
     "text": [
      "C:\\Users\\mahil\\anaconda3\\lib\\site-packages\\ipykernel\\ipkernel.py:287: DeprecationWarning: `should_run_async` will not call `transform_cell` automatically in the future. Please pass the result to `transformed_cell` argument and any exception that happen during thetransform in `preprocessing_exc_tuple` in IPython 7.17 and above.\n",
      "  and should_run_async(code)\n",
      "............."
     ]
    },
    {
     "name": "stdout",
     "output_type": "stream",
     "text": [
      "<unittest.main.TestProgram object at 0x000001982EDB66A0>\n"
     ]
    },
    {
     "name": "stderr",
     "output_type": "stream",
     "text": [
      "\n",
      "----------------------------------------------------------------------\n",
      "Ran 13 tests in 0.041s\n",
      "\n",
      "OK\n"
     ]
    }
   ],
   "source": [
    "import unittest\n",
    "from utils import chatWordsConversion\n",
    "\n",
    "\n",
    "class test_chatWordConversion(unittest.TestCase):\n",
    "\n",
    "    def test_A(self):\n",
    "        sentence = \"One minute BRB\"\n",
    "        processedSentence = chatWordsConversion(sentence)\n",
    "        value = \"One minute Be Right Back\"\n",
    "        self.assertEqual(processedSentence, value)\n",
    "\n",
    "    def test_B(self):\n",
    "        sentence = \"W8 here\"\n",
    "        processedSentence = chatWordsConversion(sentence)\n",
    "        value = \"Wait here\"\n",
    "        self.assertEqual(processedSentence, value)\n",
    "\n",
    "    def test_C(self):\n",
    "        sentence = \"ILU so much\"\n",
    "        processedSentence = chatWordsConversion(sentence)\n",
    "        value = \"I Love You so much\"\n",
    "        self.assertEqual(processedSentence, value)\n",
    "\n",
    "    def test_D(self):\n",
    "        sentence = \"I want you here ASAP\"\n",
    "        processedSentence = chatWordsConversion(sentence)\n",
    "        value = \"I want you here As Soon As Possible\"\n",
    "        self.assertEqual(processedSentence, value)\n",
    "\n",
    "\n",
    "if __name__ == '__main__':\n",
    "    print(unittest.main(argv=['first-arg-is-ignored'], exit=False))\n"
   ]
  },
  {
   "cell_type": "markdown",
   "metadata": {},
   "source": [
    "## Testing removal non english words functions"
   ]
  },
  {
   "cell_type": "code",
   "execution_count": 40,
   "metadata": {},
   "outputs": [
    {
     "name": "stderr",
     "output_type": "stream",
     "text": [
      "C:\\Users\\mahil\\anaconda3\\lib\\site-packages\\ipykernel\\ipkernel.py:287: DeprecationWarning: `should_run_async` will not call `transform_cell` automatically in the future. Please pass the result to `transformed_cell` argument and any exception that happen during thetransform in `preprocessing_exc_tuple` in IPython 7.17 and above.\n",
      "  and should_run_async(code)\n",
      ".............."
     ]
    },
    {
     "name": "stdout",
     "output_type": "stream",
     "text": [
      "<unittest.main.TestProgram object at 0x000001982EDB6460>\n"
     ]
    },
    {
     "name": "stderr",
     "output_type": "stream",
     "text": [
      "\n",
      "----------------------------------------------------------------------\n",
      "Ran 14 tests in 0.042s\n",
      "\n",
      "OK\n"
     ]
    }
   ],
   "source": [
    "import unittest\n",
    "from utils import removeNonEnglishWords\n",
    "\n",
    "\n",
    "class test_removeNonEnglishWords(unittest.TestCase):\n",
    "\n",
    "    def test_A(self):\n",
    "        sentence = \"Io andiamo to the beach with my amico.\"\n",
    "        processedSentence = removeNonEnglishWords(sentence)\n",
    "        value = \"Io to the beach with my .\"\n",
    "        self.assertEqual(processedSentence, value)\n",
    "\n",
    "\n",
    "if __name__ == '__main__':\n",
    "    print(unittest.main(argv=['first-arg-is-ignored'], exit=False))"
   ]
  },
  {
   "cell_type": "markdown",
   "metadata": {},
   "source": [
    "## testing removal emojis functions"
   ]
  },
  {
   "cell_type": "code",
   "execution_count": 41,
   "metadata": {
    "scrolled": true
   },
   "outputs": [
    {
     "name": "stderr",
     "output_type": "stream",
     "text": [
      "C:\\Users\\mahil\\anaconda3\\lib\\site-packages\\ipykernel\\ipkernel.py:287: DeprecationWarning: `should_run_async` will not call `transform_cell` automatically in the future. Please pass the result to `transformed_cell` argument and any exception that happen during thetransform in `preprocessing_exc_tuple` in IPython 7.17 and above.\n",
      "  and should_run_async(code)\n",
      "................"
     ]
    },
    {
     "name": "stdout",
     "output_type": "stream",
     "text": [
      "<unittest.main.TestProgram object at 0x000001983F869310>\n"
     ]
    },
    {
     "name": "stderr",
     "output_type": "stream",
     "text": [
      "\n",
      "----------------------------------------------------------------------\n",
      "Ran 16 tests in 0.037s\n",
      "\n",
      "OK\n"
     ]
    }
   ],
   "source": [
    "import unittest\n",
    "from utils import removeEmojis\n",
    "\n",
    "\n",
    "class test_removeEmojis(unittest.TestCase):\n",
    "\n",
    "    def test_A(self):\n",
    "        sentence = \"game is on 🔥🔥\"\n",
    "        processed_sentence = removeEmojis(sentence)\n",
    "        value = \"game is on \"\n",
    "        self.assertEqual(processed_sentence, value)\n",
    "\n",
    "    def test_B(self):\n",
    "        sentence = \"Hilarious😂\"\n",
    "        processed_sentence = removeEmojis(sentence)\n",
    "        value = \"Hilarious\"\n",
    "        self.assertEqual(processed_sentence, value)\n",
    "\n",
    "\n",
    "if __name__ == '__main__':\n",
    "    print(unittest.main(argv=['first-arg-is-ignored'], exit=False))\n"
   ]
  },
  {
   "cell_type": "markdown",
   "metadata": {},
   "source": [
    "## Testing removal of emoticons function"
   ]
  },
  {
   "cell_type": "code",
   "execution_count": 42,
   "metadata": {},
   "outputs": [
    {
     "name": "stderr",
     "output_type": "stream",
     "text": [
      "C:\\Users\\mahil\\anaconda3\\lib\\site-packages\\ipykernel\\ipkernel.py:287: DeprecationWarning: `should_run_async` will not call `transform_cell` automatically in the future. Please pass the result to `transformed_cell` argument and any exception that happen during thetransform in `preprocessing_exc_tuple` in IPython 7.17 and above.\n",
      "  and should_run_async(code)\n",
      "................."
     ]
    },
    {
     "name": "stdout",
     "output_type": "stream",
     "text": [
      "<unittest.main.TestProgram object at 0x000001982EDB6B80>\n"
     ]
    },
    {
     "name": "stderr",
     "output_type": "stream",
     "text": [
      "\n",
      "----------------------------------------------------------------------\n",
      "Ran 17 tests in 0.046s\n",
      "\n",
      "OK\n"
     ]
    }
   ],
   "source": [
    "import unittest\n",
    "from utils import removeEmoticons\n",
    "\n",
    "\n",
    "class test_removeEmoticons(unittest.TestCase):\n",
    "\n",
    "    def test_A(self):\n",
    "        sentence = \"NLP is great :-)\"\n",
    "        processed_sentence = removeEmoticons(sentence)\n",
    "        value = \"NLP is great \"\n",
    "        self.assertEqual(processed_sentence, value)\n",
    "\n",
    "\n",
    "def run_test_removeEmoticons():\n",
    "    print(run_test_removeEmoticons())\n",
    "\n",
    "\n",
    "if __name__ == '__main__':\n",
    "    print(unittest.main(argv=['first-arg-is-ignored'], exit=False))\n"
   ]
  },
  {
   "cell_type": "code",
   "execution_count": null,
   "metadata": {},
   "outputs": [],
   "source": []
  }
 ],
 "metadata": {
  "kernelspec": {
   "display_name": "Python 3",
   "language": "python",
   "name": "python3"
  },
  "language_info": {
   "codemirror_mode": {
    "name": "ipython",
    "version": 3
   },
   "file_extension": ".py",
   "mimetype": "text/x-python",
   "name": "python",
   "nbconvert_exporter": "python",
   "pygments_lexer": "ipython3",
   "version": "3.8.5"
  }
 },
 "nbformat": 4,
 "nbformat_minor": 4
}
